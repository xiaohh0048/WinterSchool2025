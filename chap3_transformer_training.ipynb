{
 "cells": [
  {
   "cell_type": "markdown",
   "metadata": {},
   "source": [
    "# 第三节：Transformer 实战\n",
    "\n",
    "本节将介绍 Transformer 在粒子物理分类任务中的实战应用。作为一个统一的框架，我们将利用 PyTorch 和 pytorch-lightning 环境进行训练。我们将完成以下任务：\n",
    "\n",
    " - 首先，我们训练一个基础的 MLP 网络完成信号和本底分类问题。我们的输入是具有固定长度的，利用事例信息构造的一组变量，构成一个1D vector。这是 DNN （或BDT等传统机器学习框架）的典型输入形式。\n",
    " - 其次，我们将训练 Transformer 模块完成相同的事例分类问题。我们利用输入特征的一些性质，构造一些token，并将输入赋予为token的特征，从而构造Transformer的典型输入形式。我们将利用上一节一步一步搭建的 Transformer 模块，适配到这个任务中。\n",
    " - 最后，我们直接用 PyTorch 自带的 Transformer 模块，用更简单的方式完成这个任务。\n",
    "\n",
    "在本例中，我们主要希望练习如何在物理分析水平 (HEP physics analysis level）部署 Transformer 模型。这一水平的 Transformer 模型会相对简单（token 数目不多，网络很浅，而且本身分类的任务不复杂）。但是“麻雀虽小，五脏俱全”，主要希望起到学习代码的作用。\n",
    "\n",
    "**如果在 Google Colab 中使用，请首先运行下面的命令安装相关的python包。**"
   ]
  },
  {
   "cell_type": "code",
   "execution_count": null,
   "metadata": {},
   "outputs": [],
   "source": [
    "! pip install uproot==4.2.2 pandas==1.3.4 mplhep==0.3.12 weaver-core\n",
    "! pip install pytorch_lightning"
   ]
  },
  {
   "cell_type": "markdown",
   "metadata": {},
   "source": [
    "## 背景介绍\n",
    "\n",
    "在大型强子对撞机（LHC）的高能物理的实验中，两束高能质子束构成一个个团簇流进行对撞，每个团簇发生的对撞称为一个**事例**。对撞会发生复杂的物理过程，产生新粒子——这由目前的量子场论理论可以解释。我们能够采集的信号的是这些产生的粒子与探测器相互作用后，获得的径迹信息、能量沉积信息等等。利用算法，我们可以把所有的末态粒子重建出来，进而知道它所对应的物理过程，转化为对撞机物理的一个重要的可观测量：一个物理过程的微分散射截面。通过比较实验测得的截面和理论预计的截面，我们可以精确测量一些量子场论的理论参数、寻找新粒子可能存在的迹象等等。\n",
    "\n",
    "<img src=\"figures/HiggsEventDisplay.jpg\" alt=\"Drawing\" width=500/>\n",
    "\n",
    "2012 年 Higgs 玻色子的发现补全了标准模型最后一块拼图，是粒子物理实验的一个里程碑。接下来一直延伸到高亮度LHC实验的一个重要的物理目标，是研究希格斯的自耦合 (self-coupling）性质。在标准模型中，电弱对称性破缺后，拉式量中会出现Higgs的自耦合项。对应到具体的物理过程，即出现三个或四个Higgs玻色子直接耦合的情形。一个典型的过程由下面的费曼图所示（这是产生双Higgs玻色子过程的一种费曼图）。\n",
    "\n",
    "<img src=\"figures/DihiggsFD.jpg\" alt=\"Drawing\" width=300/>\n",
    "\n",
    "这个过程中，由于Higgs的自耦合，最终产生了两个Higgs玻色子。如果能够测量这个过程的物理散射截面，那么便可以对自耦合的修正因子$\\kappa_\\lambda$进行限制。我们这里讨论一种特殊的衰变模式，即一个Higgs衰变到分支比最大的$b\\bar{b}$末态，另一个Higgs衰变到$W^+W^-$。在本例中，我们将通过重建的事例信息，分辨双希格斯物理中的物理信号 $HH\\to b\\bar{b}W^+W^-$ 与其最大的本底过程$t\\bar{t}\\to b\\bar{b}W^+W^-$。˙信号和本底过程有如下的特点：\n",
    "- 二者的末态粒子完全相同：两个b夸克会形成两个b喷注；两个W玻色子研究其轻子化衰变，生成两个轻子（即电子或μ子）和看不⻅的中微子；\n",
    "- 但二者的末态粒子的相空间稍有差别: $HH$ 和 $t\\bar{t}$ 各自是头对头出射的（因极端相对论效应），所以前者 $bb$ 和 $WW$ 可能各自很近，后者两个 $bW$ 对可能各自很近；\n",
    "- 我们可以实验上测出信号和背景的末态信息，即两个 b 喷注 + 两个轻子的信息（四动量、喷注性质的变量等等）。\n",
    "\n",
    "那么，能否用神经网络技术，利用重建的事例信息区分两种过程？\n",
    "\n",
    "<img src=\"figures/SigBkgFS.png\" alt=\"Drawing\" width=700/>\n",
    "\n",
    "> 对于事例重建信息的说明：\n",
    ">\n",
    "> - 首先，在LHC上夸克（如底夸克）和胶子会最终形成喷注——它们是聚焦在一定半径的锥角内的一束能量很强的强子簇设。强相互作用在能标较高的情况下较弱，但在低能标下表现地非常强，夸克因紧闭效应无法单独存在，需与其它夸克紧密结合，形成强子无法“挣脱”。因此，夸克从最初的产生起即不断发生强子化和部分子淋浴过程，最终只能看到一束强子簇设。\n",
    "> \n",
    "> - 其次，中微子无法被探测器观测到，但是因为它会带走一部分横动量，破坏横截面的动量守恒。因此，可以通过重建出横截面的丢失横动量和方位角，来判断过程中产生了中微子。\n",
    "\n",
    "\n"
   ]
  },
  {
   "cell_type": "markdown",
   "metadata": {},
   "source": [
    "## 数据集介绍\n",
    "\n",
    "我们的数据集包含上述的信号、背景两种物理过程的事例。\n",
    "在储存的特征中，我们包含了两个b夸克形成喷注 (`bjet1_*`, `bjet2_*` 特征)，两个轻子对应的特征（`lep1_*`, `lep2_*`特征）和丢失横动量特征（`met_*`）。\n",
    "下面用 `pandas` 数据分析包对所储存的数据以表格形式进行呈现。\n"
   ]
  },
  {
   "cell_type": "markdown",
   "metadata": {},
   "source": [
    "**如果在 Google Colab 中使用，请首先运行下面的命令下载所需数据集。**"
   ]
  },
  {
   "cell_type": "code",
   "execution_count": null,
   "metadata": {},
   "outputs": [],
   "source": [
    "! if [[ \"$(hostname)\" != *pku.edu.cn* && \"$(hostname)\" != *lxlogin* ]]; then \\\n",
    "    wget https://coli.web.cern.ch/coli/share/cmschina/ML/dihiggs_ntuples/hh2b2w.root; \\\n",
    "    wget https://coli.web.cern.ch/coli/share/cmschina/ML/dihiggs_ntuples/ttbar.root; \\\n",
    "fi"
   ]
  },
  {
   "cell_type": "code",
   "execution_count": 1,
   "metadata": {},
   "outputs": [
    {
     "data": {
      "text/html": [
       "<div>\n",
       "<style scoped>\n",
       "    .dataframe tbody tr th:only-of-type {\n",
       "        vertical-align: middle;\n",
       "    }\n",
       "\n",
       "    .dataframe tbody tr th {\n",
       "        vertical-align: top;\n",
       "    }\n",
       "\n",
       "    .dataframe thead th {\n",
       "        text-align: right;\n",
       "    }\n",
       "</style>\n",
       "<table border=\"1\" class=\"dataframe\">\n",
       "  <thead>\n",
       "    <tr style=\"text-align: right;\">\n",
       "      <th></th>\n",
       "      <th>event</th>\n",
       "      <th>is_sig</th>\n",
       "      <th>is_bkg</th>\n",
       "      <th>bjet1_pt</th>\n",
       "      <th>bjet1_eta</th>\n",
       "      <th>bjet1_phi</th>\n",
       "      <th>bjet1_eratio</th>\n",
       "      <th>bjet1_mass</th>\n",
       "      <th>bjet1_ncharged</th>\n",
       "      <th>bjet1_nneutrals</th>\n",
       "      <th>...</th>\n",
       "      <th>lep1_charge</th>\n",
       "      <th>lep1_type</th>\n",
       "      <th>lep2_pt</th>\n",
       "      <th>lep2_phi</th>\n",
       "      <th>lep2_eta</th>\n",
       "      <th>lep2_charge</th>\n",
       "      <th>lep2_type</th>\n",
       "      <th>met</th>\n",
       "      <th>met_phi</th>\n",
       "      <th>label</th>\n",
       "    </tr>\n",
       "  </thead>\n",
       "  <tbody>\n",
       "    <tr>\n",
       "      <th>0</th>\n",
       "      <td>0</td>\n",
       "      <td>True</td>\n",
       "      <td>False</td>\n",
       "      <td>191.402328</td>\n",
       "      <td>-0.291164</td>\n",
       "      <td>-0.979666</td>\n",
       "      <td>0.289940</td>\n",
       "      <td>16.695002</td>\n",
       "      <td>12</td>\n",
       "      <td>6</td>\n",
       "      <td>...</td>\n",
       "      <td>1</td>\n",
       "      <td>0</td>\n",
       "      <td>17.508558</td>\n",
       "      <td>1.165262</td>\n",
       "      <td>-0.711694</td>\n",
       "      <td>-1</td>\n",
       "      <td>0</td>\n",
       "      <td>233.613846</td>\n",
       "      <td>2.300718</td>\n",
       "      <td>1</td>\n",
       "    </tr>\n",
       "    <tr>\n",
       "      <th>1</th>\n",
       "      <td>1</td>\n",
       "      <td>True</td>\n",
       "      <td>False</td>\n",
       "      <td>68.452507</td>\n",
       "      <td>-1.215415</td>\n",
       "      <td>2.387005</td>\n",
       "      <td>0.492361</td>\n",
       "      <td>15.253864</td>\n",
       "      <td>10</td>\n",
       "      <td>10</td>\n",
       "      <td>...</td>\n",
       "      <td>1</td>\n",
       "      <td>1</td>\n",
       "      <td>50.567219</td>\n",
       "      <td>-1.089323</td>\n",
       "      <td>0.409210</td>\n",
       "      <td>-1</td>\n",
       "      <td>1</td>\n",
       "      <td>102.682526</td>\n",
       "      <td>-0.004101</td>\n",
       "      <td>1</td>\n",
       "    </tr>\n",
       "    <tr>\n",
       "      <th>2</th>\n",
       "      <td>2</td>\n",
       "      <td>True</td>\n",
       "      <td>False</td>\n",
       "      <td>152.725433</td>\n",
       "      <td>0.449958</td>\n",
       "      <td>-1.470235</td>\n",
       "      <td>1.215402</td>\n",
       "      <td>12.211457</td>\n",
       "      <td>12</td>\n",
       "      <td>8</td>\n",
       "      <td>...</td>\n",
       "      <td>1</td>\n",
       "      <td>1</td>\n",
       "      <td>43.384056</td>\n",
       "      <td>0.584961</td>\n",
       "      <td>0.624317</td>\n",
       "      <td>-1</td>\n",
       "      <td>0</td>\n",
       "      <td>57.796436</td>\n",
       "      <td>0.935978</td>\n",
       "      <td>1</td>\n",
       "    </tr>\n",
       "    <tr>\n",
       "      <th>3</th>\n",
       "      <td>3</td>\n",
       "      <td>True</td>\n",
       "      <td>False</td>\n",
       "      <td>107.360390</td>\n",
       "      <td>0.124028</td>\n",
       "      <td>-1.175005</td>\n",
       "      <td>0.000000</td>\n",
       "      <td>6.060685</td>\n",
       "      <td>6</td>\n",
       "      <td>4</td>\n",
       "      <td>...</td>\n",
       "      <td>1</td>\n",
       "      <td>1</td>\n",
       "      <td>26.664654</td>\n",
       "      <td>2.175398</td>\n",
       "      <td>0.556468</td>\n",
       "      <td>-1</td>\n",
       "      <td>1</td>\n",
       "      <td>65.674774</td>\n",
       "      <td>1.417736</td>\n",
       "      <td>1</td>\n",
       "    </tr>\n",
       "    <tr>\n",
       "      <th>4</th>\n",
       "      <td>4</td>\n",
       "      <td>True</td>\n",
       "      <td>False</td>\n",
       "      <td>97.040932</td>\n",
       "      <td>2.160315</td>\n",
       "      <td>-2.940341</td>\n",
       "      <td>0.000000</td>\n",
       "      <td>10.475123</td>\n",
       "      <td>10</td>\n",
       "      <td>14</td>\n",
       "      <td>...</td>\n",
       "      <td>-1</td>\n",
       "      <td>1</td>\n",
       "      <td>29.825296</td>\n",
       "      <td>0.306789</td>\n",
       "      <td>0.310836</td>\n",
       "      <td>1</td>\n",
       "      <td>0</td>\n",
       "      <td>94.994255</td>\n",
       "      <td>-3.043913</td>\n",
       "      <td>1</td>\n",
       "    </tr>\n",
       "    <tr>\n",
       "      <th>...</th>\n",
       "      <td>...</td>\n",
       "      <td>...</td>\n",
       "      <td>...</td>\n",
       "      <td>...</td>\n",
       "      <td>...</td>\n",
       "      <td>...</td>\n",
       "      <td>...</td>\n",
       "      <td>...</td>\n",
       "      <td>...</td>\n",
       "      <td>...</td>\n",
       "      <td>...</td>\n",
       "      <td>...</td>\n",
       "      <td>...</td>\n",
       "      <td>...</td>\n",
       "      <td>...</td>\n",
       "      <td>...</td>\n",
       "      <td>...</td>\n",
       "      <td>...</td>\n",
       "      <td>...</td>\n",
       "      <td>...</td>\n",
       "      <td>...</td>\n",
       "    </tr>\n",
       "    <tr>\n",
       "      <th>149995</th>\n",
       "      <td>149995</td>\n",
       "      <td>False</td>\n",
       "      <td>True</td>\n",
       "      <td>169.980515</td>\n",
       "      <td>-0.147777</td>\n",
       "      <td>2.985398</td>\n",
       "      <td>0.209411</td>\n",
       "      <td>27.176857</td>\n",
       "      <td>12</td>\n",
       "      <td>8</td>\n",
       "      <td>...</td>\n",
       "      <td>-1</td>\n",
       "      <td>1</td>\n",
       "      <td>92.388741</td>\n",
       "      <td>-0.697610</td>\n",
       "      <td>0.483596</td>\n",
       "      <td>1</td>\n",
       "      <td>1</td>\n",
       "      <td>131.839859</td>\n",
       "      <td>-0.000835</td>\n",
       "      <td>0</td>\n",
       "    </tr>\n",
       "    <tr>\n",
       "      <th>149996</th>\n",
       "      <td>149996</td>\n",
       "      <td>False</td>\n",
       "      <td>True</td>\n",
       "      <td>47.205002</td>\n",
       "      <td>1.002193</td>\n",
       "      <td>-1.613720</td>\n",
       "      <td>0.000000</td>\n",
       "      <td>9.505911</td>\n",
       "      <td>10</td>\n",
       "      <td>8</td>\n",
       "      <td>...</td>\n",
       "      <td>-1</td>\n",
       "      <td>0</td>\n",
       "      <td>62.515564</td>\n",
       "      <td>0.693190</td>\n",
       "      <td>0.890577</td>\n",
       "      <td>1</td>\n",
       "      <td>0</td>\n",
       "      <td>75.465065</td>\n",
       "      <td>1.878048</td>\n",
       "      <td>0</td>\n",
       "    </tr>\n",
       "    <tr>\n",
       "      <th>149997</th>\n",
       "      <td>149997</td>\n",
       "      <td>False</td>\n",
       "      <td>True</td>\n",
       "      <td>63.940311</td>\n",
       "      <td>0.381228</td>\n",
       "      <td>0.494209</td>\n",
       "      <td>0.166411</td>\n",
       "      <td>8.920477</td>\n",
       "      <td>10</td>\n",
       "      <td>8</td>\n",
       "      <td>...</td>\n",
       "      <td>1</td>\n",
       "      <td>0</td>\n",
       "      <td>34.591877</td>\n",
       "      <td>2.737549</td>\n",
       "      <td>-0.180914</td>\n",
       "      <td>-1</td>\n",
       "      <td>1</td>\n",
       "      <td>59.409447</td>\n",
       "      <td>0.176429</td>\n",
       "      <td>0</td>\n",
       "    </tr>\n",
       "    <tr>\n",
       "      <th>149998</th>\n",
       "      <td>149998</td>\n",
       "      <td>False</td>\n",
       "      <td>True</td>\n",
       "      <td>89.012772</td>\n",
       "      <td>-0.562279</td>\n",
       "      <td>-0.638000</td>\n",
       "      <td>0.648749</td>\n",
       "      <td>13.602261</td>\n",
       "      <td>11</td>\n",
       "      <td>12</td>\n",
       "      <td>...</td>\n",
       "      <td>-1</td>\n",
       "      <td>1</td>\n",
       "      <td>20.882822</td>\n",
       "      <td>-3.140386</td>\n",
       "      <td>-1.086141</td>\n",
       "      <td>1</td>\n",
       "      <td>0</td>\n",
       "      <td>44.600636</td>\n",
       "      <td>-1.177096</td>\n",
       "      <td>0</td>\n",
       "    </tr>\n",
       "    <tr>\n",
       "      <th>149999</th>\n",
       "      <td>149999</td>\n",
       "      <td>False</td>\n",
       "      <td>True</td>\n",
       "      <td>100.859207</td>\n",
       "      <td>-1.141927</td>\n",
       "      <td>-1.177283</td>\n",
       "      <td>0.068802</td>\n",
       "      <td>11.631890</td>\n",
       "      <td>6</td>\n",
       "      <td>12</td>\n",
       "      <td>...</td>\n",
       "      <td>-1</td>\n",
       "      <td>1</td>\n",
       "      <td>51.515999</td>\n",
       "      <td>0.453256</td>\n",
       "      <td>-1.976577</td>\n",
       "      <td>1</td>\n",
       "      <td>1</td>\n",
       "      <td>73.958908</td>\n",
       "      <td>-2.497298</td>\n",
       "      <td>0</td>\n",
       "    </tr>\n",
       "  </tbody>\n",
       "</table>\n",
       "<p>300000 rows × 30 columns</p>\n",
       "</div>"
      ],
      "text/plain": [
       "         event  is_sig  is_bkg    bjet1_pt  bjet1_eta  bjet1_phi  \\\n",
       "0            0    True   False  191.402328  -0.291164  -0.979666   \n",
       "1            1    True   False   68.452507  -1.215415   2.387005   \n",
       "2            2    True   False  152.725433   0.449958  -1.470235   \n",
       "3            3    True   False  107.360390   0.124028  -1.175005   \n",
       "4            4    True   False   97.040932   2.160315  -2.940341   \n",
       "...        ...     ...     ...         ...        ...        ...   \n",
       "149995  149995   False    True  169.980515  -0.147777   2.985398   \n",
       "149996  149996   False    True   47.205002   1.002193  -1.613720   \n",
       "149997  149997   False    True   63.940311   0.381228   0.494209   \n",
       "149998  149998   False    True   89.012772  -0.562279  -0.638000   \n",
       "149999  149999   False    True  100.859207  -1.141927  -1.177283   \n",
       "\n",
       "        bjet1_eratio  bjet1_mass  bjet1_ncharged  bjet1_nneutrals  ...  \\\n",
       "0           0.289940   16.695002              12                6  ...   \n",
       "1           0.492361   15.253864              10               10  ...   \n",
       "2           1.215402   12.211457              12                8  ...   \n",
       "3           0.000000    6.060685               6                4  ...   \n",
       "4           0.000000   10.475123              10               14  ...   \n",
       "...              ...         ...             ...              ...  ...   \n",
       "149995      0.209411   27.176857              12                8  ...   \n",
       "149996      0.000000    9.505911              10                8  ...   \n",
       "149997      0.166411    8.920477              10                8  ...   \n",
       "149998      0.648749   13.602261              11               12  ...   \n",
       "149999      0.068802   11.631890               6               12  ...   \n",
       "\n",
       "        lep1_charge  lep1_type    lep2_pt  lep2_phi  lep2_eta  lep2_charge  \\\n",
       "0                 1          0  17.508558  1.165262 -0.711694           -1   \n",
       "1                 1          1  50.567219 -1.089323  0.409210           -1   \n",
       "2                 1          1  43.384056  0.584961  0.624317           -1   \n",
       "3                 1          1  26.664654  2.175398  0.556468           -1   \n",
       "4                -1          1  29.825296  0.306789  0.310836            1   \n",
       "...             ...        ...        ...       ...       ...          ...   \n",
       "149995           -1          1  92.388741 -0.697610  0.483596            1   \n",
       "149996           -1          0  62.515564  0.693190  0.890577            1   \n",
       "149997            1          0  34.591877  2.737549 -0.180914           -1   \n",
       "149998           -1          1  20.882822 -3.140386 -1.086141            1   \n",
       "149999           -1          1  51.515999  0.453256 -1.976577            1   \n",
       "\n",
       "        lep2_type         met   met_phi  label  \n",
       "0               0  233.613846  2.300718      1  \n",
       "1               1  102.682526 -0.004101      1  \n",
       "2               0   57.796436  0.935978      1  \n",
       "3               1   65.674774  1.417736      1  \n",
       "4               0   94.994255 -3.043913      1  \n",
       "...           ...         ...       ...    ...  \n",
       "149995          1  131.839859 -0.000835      0  \n",
       "149996          0   75.465065  1.878048      0  \n",
       "149997          1   59.409447  0.176429      0  \n",
       "149998          0   44.600636 -1.177096      0  \n",
       "149999          1   73.958908 -2.497298      0  \n",
       "\n",
       "[300000 rows x 30 columns]"
      ]
     },
     "execution_count": 1,
     "metadata": {},
     "output_type": "execute_result"
    }
   ],
   "source": [
    "# Load data\n",
    "\n",
    "import os\n",
    "# Determine the base directory and the remote git path\n",
    "hostname = os.uname()[1]\n",
    "if 'pku.edu.cn' in hostname: # on PKU cluster\n",
    "    basedir = '/data/pubfs/pku_visitor/public_write/ML/dihiggs_ntuples/'\n",
    "elif hostname.startswith('lxlogin'): # on IHEP lxlogin\n",
    "    basedir = '/scratchfs/cms/licq/cmschina/ML/dihiggs_ntuples/'\n",
    "else:\n",
    "    basedir = '.'\n",
    "\n",
    "import uproot\n",
    "import pandas as pd\n",
    "\n",
    "dihiggs = uproot.concatenate(f\"{basedir}/hh2b2w.root:tree\",library=\"pd\")\n",
    "ttbar = uproot.concatenate(f\"{basedir}/ttbar.root:tree\",library=\"pd\")\n",
    "\n",
    "df_raw = pd.concat([dihiggs, ttbar], axis=0)\n",
    "df_raw['label'] = df_raw['is_sig'].astype(int) # 定义一个int类型的label，指示是sig还是bkg\n",
    "df_raw"
   ]
  },
  {
   "cell_type": "markdown",
   "metadata": {},
   "source": [
    "我们对每个特征作直方图，看一下它们大概的特征和直方图分布。"
   ]
  },
  {
   "cell_type": "code",
   "execution_count": 2,
   "metadata": {},
   "outputs": [
    {
     "data": {
      "image/png": "[encoded data removed]",
      "text/plain": [
       "<Figure size 1800x1080 with 12 Axes>"
      ]
     },
     "metadata": {
      "needs_background": "light"
     },
     "output_type": "display_data"
    }
   ],
   "source": [
    "import matplotlib.pyplot as plt\n",
    "import numpy as np\n",
    "\n",
    "plotinfo = [ # varname, nbin, xmin, xmax\n",
    "    ('bjet1_pt', 40, 0, 1000),\n",
    "    ('bjet1_eta', 40, -4, 4),\n",
    "    ('bjet1_phi', 40, -4, 4),\n",
    "    ('bjet1_eratio', 40, 0, 15),\n",
    "    ('bjet1_mass', 40, 0, 100),\n",
    "    ('bjet1_ncharged', 40, 0, 40),\n",
    "    ('bjet1_nneutrals', 40, 0, 40),\n",
    "    ('lep1_pt', 40, 0, 1000),\n",
    "    ('lep1_eta', 40, -4, 4),\n",
    "    ('lep1_phi', 40, -4, 4),\n",
    "    ('met', 40, 0, 600),\n",
    "    ('met_phi', 40, -4, 4),\n",
    "]\n",
    "plt.figure(figsize=(25, 15))\n",
    "for i, (varname, nbin, xmin, xmax) in enumerate(plotinfo):\n",
    "    plt.subplot(3, 4, i+1)\n",
    "    bins = np.linspace(xmin, xmax, nbin+1)\n",
    "    plt.hist(dihiggs[varname], histtype=\"step\", bins=bins, label=\"di-Higgs\", density=True)\n",
    "    plt.hist(ttbar[varname], histtype=\"step\", bins=bins, label=\"$t\\\\bar{t}$\", density=True)\n",
    "    plt.legend()\n",
    "    plt.xlim(xmin, xmax)\n",
    "    plt.title(varname)"
   ]
  },
  {
   "cell_type": "markdown",
   "metadata": {},
   "source": [
    "对每个特征变量进行处理，减去均值并除以标准差，得到标准化后的特征。\n",
    "\n",
    "这一步往往对于 DNN 的训练来说非常关键。一般来说，输入的特征变量如果取值范围限制在相近区间内，神经网络容易学得更好。在神经网络传递过程中，中间层的节点都具有相近的均值和方差；如果初始输入特征有的范围很小（比如0或1的取值），有的范围很大（比如jet pT，可以延伸到几千的数值），则第一层神经网络的权重可能差异很大，使得优化不容易。\n",
    "\n",
    "> 注：对于 jet pT 这种具有长尾分布的变量，除了进行归一化，一般还可以进行求log，如 $\\log(|x|)$, 或 $\\log(|x|+1)$ 进行单调变换，使得变换后的分布更接近高斯分布，这也可以适当增加网络的性能。"
   ]
  },
  {
   "cell_type": "code",
   "execution_count": 3,
   "metadata": {},
   "outputs": [
    {
     "data": {
      "text/html": [
       "<div>\n",
       "<style scoped>\n",
       "    .dataframe tbody tr th:only-of-type {\n",
       "        vertical-align: middle;\n",
       "    }\n",
       "\n",
       "    .dataframe tbody tr th {\n",
       "        vertical-align: top;\n",
       "    }\n",
       "\n",
       "    .dataframe thead th {\n",
       "        text-align: right;\n",
       "    }\n",
       "</style>\n",
       "<table border=\"1\" class=\"dataframe\">\n",
       "  <thead>\n",
       "    <tr style=\"text-align: right;\">\n",
       "      <th></th>\n",
       "      <th>bjet1_pt_trans</th>\n",
       "      <th>bjet1_eta_trans</th>\n",
       "      <th>bjet1_phi_trans</th>\n",
       "      <th>bjet1_eratio_trans</th>\n",
       "      <th>bjet1_mass_trans</th>\n",
       "      <th>bjet1_ncharged_trans</th>\n",
       "      <th>bjet1_nneutrals_trans</th>\n",
       "      <th>bjet2_pt_trans</th>\n",
       "      <th>bjet2_eta_trans</th>\n",
       "      <th>bjet2_phi_trans</th>\n",
       "      <th>...</th>\n",
       "      <th>lep1_charge</th>\n",
       "      <th>lep1_type</th>\n",
       "      <th>lep2_pt</th>\n",
       "      <th>lep2_phi</th>\n",
       "      <th>lep2_eta</th>\n",
       "      <th>lep2_charge</th>\n",
       "      <th>lep2_type</th>\n",
       "      <th>met</th>\n",
       "      <th>met_phi</th>\n",
       "      <th>label</th>\n",
       "    </tr>\n",
       "  </thead>\n",
       "  <tbody>\n",
       "    <tr>\n",
       "      <th>0</th>\n",
       "      <td>0.566009</td>\n",
       "      <td>-0.216940</td>\n",
       "      <td>-0.538931</td>\n",
       "      <td>-0.142020</td>\n",
       "      <td>0.165628</td>\n",
       "      <td>0.430743</td>\n",
       "      <td>-0.663944</td>\n",
       "      <td>-0.127634</td>\n",
       "      <td>-1.025722</td>\n",
       "      <td>-0.312706</td>\n",
       "      <td>...</td>\n",
       "      <td>1</td>\n",
       "      <td>0</td>\n",
       "      <td>17.508558</td>\n",
       "      <td>1.165262</td>\n",
       "      <td>-0.711694</td>\n",
       "      <td>-1</td>\n",
       "      <td>0</td>\n",
       "      <td>233.613846</td>\n",
       "      <td>2.300718</td>\n",
       "      <td>1</td>\n",
       "    </tr>\n",
       "    <tr>\n",
       "      <th>1</th>\n",
       "      <td>-0.692736</td>\n",
       "      <td>-0.913453</td>\n",
       "      <td>1.316571</td>\n",
       "      <td>-0.140433</td>\n",
       "      <td>0.032240</td>\n",
       "      <td>0.037705</td>\n",
       "      <td>0.213418</td>\n",
       "      <td>-0.177743</td>\n",
       "      <td>-0.332485</td>\n",
       "      <td>-1.051495</td>\n",
       "      <td>...</td>\n",
       "      <td>1</td>\n",
       "      <td>1</td>\n",
       "      <td>50.567219</td>\n",
       "      <td>-1.089323</td>\n",
       "      <td>0.409210</td>\n",
       "      <td>-1</td>\n",
       "      <td>1</td>\n",
       "      <td>102.682526</td>\n",
       "      <td>-0.004101</td>\n",
       "      <td>1</td>\n",
       "    </tr>\n",
       "    <tr>\n",
       "      <th>2</th>\n",
       "      <td>0.170040</td>\n",
       "      <td>0.341568</td>\n",
       "      <td>-0.809302</td>\n",
       "      <td>-0.134763</td>\n",
       "      <td>-0.249359</td>\n",
       "      <td>0.430743</td>\n",
       "      <td>-0.225263</td>\n",
       "      <td>-0.270861</td>\n",
       "      <td>0.921192</td>\n",
       "      <td>-1.382473</td>\n",
       "      <td>...</td>\n",
       "      <td>1</td>\n",
       "      <td>1</td>\n",
       "      <td>43.384056</td>\n",
       "      <td>0.584961</td>\n",
       "      <td>0.624317</td>\n",
       "      <td>-1</td>\n",
       "      <td>0</td>\n",
       "      <td>57.796436</td>\n",
       "      <td>0.935978</td>\n",
       "      <td>1</td>\n",
       "    </tr>\n",
       "    <tr>\n",
       "      <th>3</th>\n",
       "      <td>-0.294402</td>\n",
       "      <td>0.095947</td>\n",
       "      <td>-0.646589</td>\n",
       "      <td>-0.144293</td>\n",
       "      <td>-0.818660</td>\n",
       "      <td>-0.748372</td>\n",
       "      <td>-1.102625</td>\n",
       "      <td>-0.959167</td>\n",
       "      <td>1.114436</td>\n",
       "      <td>-0.866333</td>\n",
       "      <td>...</td>\n",
       "      <td>1</td>\n",
       "      <td>1</td>\n",
       "      <td>26.664654</td>\n",
       "      <td>2.175398</td>\n",
       "      <td>0.556468</td>\n",
       "      <td>-1</td>\n",
       "      <td>1</td>\n",
       "      <td>65.674774</td>\n",
       "      <td>1.417736</td>\n",
       "      <td>1</td>\n",
       "    </tr>\n",
       "    <tr>\n",
       "      <th>4</th>\n",
       "      <td>-0.400051</td>\n",
       "      <td>1.630488</td>\n",
       "      <td>-1.619534</td>\n",
       "      <td>-0.144293</td>\n",
       "      <td>-0.410070</td>\n",
       "      <td>0.037705</td>\n",
       "      <td>1.090781</td>\n",
       "      <td>-0.542826</td>\n",
       "      <td>1.505292</td>\n",
       "      <td>-0.814446</td>\n",
       "      <td>...</td>\n",
       "      <td>-1</td>\n",
       "      <td>1</td>\n",
       "      <td>29.825296</td>\n",
       "      <td>0.306789</td>\n",
       "      <td>0.310836</td>\n",
       "      <td>1</td>\n",
       "      <td>0</td>\n",
       "      <td>94.994255</td>\n",
       "      <td>-3.043913</td>\n",
       "      <td>1</td>\n",
       "    </tr>\n",
       "    <tr>\n",
       "      <th>...</th>\n",
       "      <td>...</td>\n",
       "      <td>...</td>\n",
       "      <td>...</td>\n",
       "      <td>...</td>\n",
       "      <td>...</td>\n",
       "      <td>...</td>\n",
       "      <td>...</td>\n",
       "      <td>...</td>\n",
       "      <td>...</td>\n",
       "      <td>...</td>\n",
       "      <td>...</td>\n",
       "      <td>...</td>\n",
       "      <td>...</td>\n",
       "      <td>...</td>\n",
       "      <td>...</td>\n",
       "      <td>...</td>\n",
       "      <td>...</td>\n",
       "      <td>...</td>\n",
       "      <td>...</td>\n",
       "      <td>...</td>\n",
       "      <td>...</td>\n",
       "    </tr>\n",
       "    <tr>\n",
       "      <th>149995</th>\n",
       "      <td>0.346695</td>\n",
       "      <td>-0.108884</td>\n",
       "      <td>1.646368</td>\n",
       "      <td>-0.142651</td>\n",
       "      <td>1.135805</td>\n",
       "      <td>0.430743</td>\n",
       "      <td>-0.225263</td>\n",
       "      <td>0.927557</td>\n",
       "      <td>0.108459</td>\n",
       "      <td>-1.172372</td>\n",
       "      <td>...</td>\n",
       "      <td>-1</td>\n",
       "      <td>1</td>\n",
       "      <td>92.388741</td>\n",
       "      <td>-0.697610</td>\n",
       "      <td>0.483596</td>\n",
       "      <td>1</td>\n",
       "      <td>1</td>\n",
       "      <td>131.839859</td>\n",
       "      <td>-0.000835</td>\n",
       "      <td>0</td>\n",
       "    </tr>\n",
       "    <tr>\n",
       "      <th>149996</th>\n",
       "      <td>-0.910265</td>\n",
       "      <td>0.757730</td>\n",
       "      <td>-0.888382</td>\n",
       "      <td>-0.144293</td>\n",
       "      <td>-0.499778</td>\n",
       "      <td>0.037705</td>\n",
       "      <td>-0.225263</td>\n",
       "      <td>-0.592341</td>\n",
       "      <td>2.543271</td>\n",
       "      <td>0.839254</td>\n",
       "      <td>...</td>\n",
       "      <td>-1</td>\n",
       "      <td>0</td>\n",
       "      <td>62.515564</td>\n",
       "      <td>0.693190</td>\n",
       "      <td>0.890577</td>\n",
       "      <td>1</td>\n",
       "      <td>0</td>\n",
       "      <td>75.465065</td>\n",
       "      <td>1.878048</td>\n",
       "      <td>0</td>\n",
       "    </tr>\n",
       "    <tr>\n",
       "      <th>149997</th>\n",
       "      <td>-0.738931</td>\n",
       "      <td>0.289773</td>\n",
       "      <td>0.273378</td>\n",
       "      <td>-0.142988</td>\n",
       "      <td>-0.553964</td>\n",
       "      <td>0.037705</td>\n",
       "      <td>-0.225263</td>\n",
       "      <td>-0.640201</td>\n",
       "      <td>-0.014030</td>\n",
       "      <td>-0.854679</td>\n",
       "      <td>...</td>\n",
       "      <td>1</td>\n",
       "      <td>0</td>\n",
       "      <td>34.591877</td>\n",
       "      <td>2.737549</td>\n",
       "      <td>-0.180914</td>\n",
       "      <td>-1</td>\n",
       "      <td>1</td>\n",
       "      <td>59.409447</td>\n",
       "      <td>0.176429</td>\n",
       "      <td>0</td>\n",
       "    </tr>\n",
       "    <tr>\n",
       "      <th>149998</th>\n",
       "      <td>-0.482243</td>\n",
       "      <td>-0.421251</td>\n",
       "      <td>-0.350626</td>\n",
       "      <td>-0.139206</td>\n",
       "      <td>-0.120629</td>\n",
       "      <td>0.234224</td>\n",
       "      <td>0.652100</td>\n",
       "      <td>-0.176126</td>\n",
       "      <td>-0.564892</td>\n",
       "      <td>0.026914</td>\n",
       "      <td>...</td>\n",
       "      <td>-1</td>\n",
       "      <td>1</td>\n",
       "      <td>20.882822</td>\n",
       "      <td>-3.140386</td>\n",
       "      <td>-1.086141</td>\n",
       "      <td>1</td>\n",
       "      <td>0</td>\n",
       "      <td>44.600636</td>\n",
       "      <td>-1.177096</td>\n",
       "      <td>0</td>\n",
       "    </tr>\n",
       "    <tr>\n",
       "      <th>149999</th>\n",
       "      <td>-0.360960</td>\n",
       "      <td>-0.858072</td>\n",
       "      <td>-0.647845</td>\n",
       "      <td>-0.143754</td>\n",
       "      <td>-0.303002</td>\n",
       "      <td>-0.748372</td>\n",
       "      <td>0.652100</td>\n",
       "      <td>-0.024667</td>\n",
       "      <td>-0.532425</td>\n",
       "      <td>1.056635</td>\n",
       "      <td>...</td>\n",
       "      <td>-1</td>\n",
       "      <td>1</td>\n",
       "      <td>51.515999</td>\n",
       "      <td>0.453256</td>\n",
       "      <td>-1.976577</td>\n",
       "      <td>1</td>\n",
       "      <td>1</td>\n",
       "      <td>73.958908</td>\n",
       "      <td>-2.497298</td>\n",
       "      <td>0</td>\n",
       "    </tr>\n",
       "  </tbody>\n",
       "</table>\n",
       "<p>300000 rows × 56 columns</p>\n",
       "</div>"
      ],
      "text/plain": [
       "        bjet1_pt_trans  bjet1_eta_trans  bjet1_phi_trans  bjet1_eratio_trans  \\\n",
       "0             0.566009        -0.216940        -0.538931           -0.142020   \n",
       "1            -0.692736        -0.913453         1.316571           -0.140433   \n",
       "2             0.170040         0.341568        -0.809302           -0.134763   \n",
       "3            -0.294402         0.095947        -0.646589           -0.144293   \n",
       "4            -0.400051         1.630488        -1.619534           -0.144293   \n",
       "...                ...              ...              ...                 ...   \n",
       "149995        0.346695        -0.108884         1.646368           -0.142651   \n",
       "149996       -0.910265         0.757730        -0.888382           -0.144293   \n",
       "149997       -0.738931         0.289773         0.273378           -0.142988   \n",
       "149998       -0.482243        -0.421251        -0.350626           -0.139206   \n",
       "149999       -0.360960        -0.858072        -0.647845           -0.143754   \n",
       "\n",
       "        bjet1_mass_trans  bjet1_ncharged_trans  bjet1_nneutrals_trans  \\\n",
       "0               0.165628              0.430743              -0.663944   \n",
       "1               0.032240              0.037705               0.213418   \n",
       "2              -0.249359              0.430743              -0.225263   \n",
       "3              -0.818660             -0.748372              -1.102625   \n",
       "4              -0.410070              0.037705               1.090781   \n",
       "...                  ...                   ...                    ...   \n",
       "149995          1.135805              0.430743              -0.225263   \n",
       "149996         -0.499778              0.037705              -0.225263   \n",
       "149997         -0.553964              0.037705              -0.225263   \n",
       "149998         -0.120629              0.234224               0.652100   \n",
       "149999         -0.303002             -0.748372               0.652100   \n",
       "\n",
       "        bjet2_pt_trans  bjet2_eta_trans  bjet2_phi_trans  ...  lep1_charge  \\\n",
       "0            -0.127634        -1.025722        -0.312706  ...            1   \n",
       "1            -0.177743        -0.332485        -1.051495  ...            1   \n",
       "2            -0.270861         0.921192        -1.382473  ...            1   \n",
       "3            -0.959167         1.114436        -0.866333  ...            1   \n",
       "4            -0.542826         1.505292        -0.814446  ...           -1   \n",
       "...                ...              ...              ...  ...          ...   \n",
       "149995        0.927557         0.108459        -1.172372  ...           -1   \n",
       "149996       -0.592341         2.543271         0.839254  ...           -1   \n",
       "149997       -0.640201        -0.014030        -0.854679  ...            1   \n",
       "149998       -0.176126        -0.564892         0.026914  ...           -1   \n",
       "149999       -0.024667        -0.532425         1.056635  ...           -1   \n",
       "\n",
       "        lep1_type    lep2_pt  lep2_phi  lep2_eta  lep2_charge  lep2_type  \\\n",
       "0               0  17.508558  1.165262 -0.711694           -1          0   \n",
       "1               1  50.567219 -1.089323  0.409210           -1          1   \n",
       "2               1  43.384056  0.584961  0.624317           -1          0   \n",
       "3               1  26.664654  2.175398  0.556468           -1          1   \n",
       "4               1  29.825296  0.306789  0.310836            1          0   \n",
       "...           ...        ...       ...       ...          ...        ...   \n",
       "149995          1  92.388741 -0.697610  0.483596            1          1   \n",
       "149996          0  62.515564  0.693190  0.890577            1          0   \n",
       "149997          0  34.591877  2.737549 -0.180914           -1          1   \n",
       "149998          1  20.882822 -3.140386 -1.086141            1          0   \n",
       "149999          1  51.515999  0.453256 -1.976577            1          1   \n",
       "\n",
       "               met   met_phi  label  \n",
       "0       233.613846  2.300718      1  \n",
       "1       102.682526 -0.004101      1  \n",
       "2        57.796436  0.935978      1  \n",
       "3        65.674774  1.417736      1  \n",
       "4        94.994255 -3.043913      1  \n",
       "...            ...       ...    ...  \n",
       "149995  131.839859 -0.000835      0  \n",
       "149996   75.465065  1.878048      0  \n",
       "149997   59.409447  0.176429      0  \n",
       "149998   44.600636 -1.177096      0  \n",
       "149999   73.958908 -2.497298      0  \n",
       "\n",
       "[300000 rows x 56 columns]"
      ]
     },
     "execution_count": 3,
     "metadata": {},
     "output_type": "execute_result"
    }
   ],
   "source": [
    "# Initialize the StandardScaler\n",
    "from sklearn.preprocessing import StandardScaler\n",
    "scaler = StandardScaler()\n",
    "\n",
    "input_columns = ['bjet1_pt', 'bjet1_eta', 'bjet1_phi',\n",
    "       'bjet1_eratio', 'bjet1_mass', 'bjet1_ncharged', 'bjet1_nneutrals',\n",
    "       'bjet2_pt', 'bjet2_eta', 'bjet2_phi', 'bjet2_eratio', 'bjet2_mass',\n",
    "       'bjet2_ncharged', 'bjet2_nneutrals', 'lep1_pt', 'lep1_phi', 'lep1_eta',\n",
    "       'lep1_charge', 'lep1_type', 'lep2_pt', 'lep2_phi', 'lep2_eta',\n",
    "       'lep2_charge', 'lep2_type', 'met', 'met_phi']\n",
    "\n",
    "# Fit and transform the DataFrame\n",
    "df = pd.DataFrame(scaler.fit_transform(df_raw[input_columns]), columns=[c + '_trans' for c in input_columns], index=df_raw.index)\n",
    "df = pd.concat([df, df_raw], axis=1)\n",
    "df"
   ]
  },
  {
   "cell_type": "markdown",
   "metadata": {},
   "source": [
    "## 用基础的 MLP 网络小试牛刀\n",
    "\n",
    "让我们首先使用上面介绍的最基本的 DNN 形式，即几层 MLP 网络完成分类。一个利用神经网络分类的概览可以参见下图。\n",
    "在本例中，我们的 MLP 网络包含两个隐藏层，最后一层是一个二分类头。\n",
    "\n",
    "\n",
    "<img src=\"figures/NN_for_event_classification.jpg\" alt=\"image\" width=900/>"
   ]
  },
  {
   "cell_type": "markdown",
   "metadata": {},
   "source": [
    "我们将用 PyTorch 进行搭建网络。\n",
    "\n",
    "一般来说，用PyTorch 进行网络搭建并建立训练的数据流可能较麻烦——对于入门的案例，往往会用已经高度封装的包，比如keras。但是，深度学习这几年的高度发展，让业界研究常用的PyTorch包越来越普及，于是我们的新教程中就完全改用了PyTorch。这样可以让我们用相同的框架涵盖本教程的所有案例。尤其是，下一节会介绍适用于粒子物理的更先进的 Transformer 模型（ParT），并同时提供一些高能物理受欢迎的 ParticleNet、ParticleNeXt 网络运用到具体分析任务的范例。它们都是基于 PyTorch 实现的。\n",
    "\n",
    "我们这里在PyTorch的基础上借用 pytorch-lightning ，它继续封装包裹了一些常用的 PyTorch 设置，让我们代码更简短，并增加可读性。\n",
    "\n",
    "下面我们来介绍使用PyTorch训练所需的基本要素\n",
    " - 模型：做一个PyTorch模型 (nn.Module) 就像搭积木一样，用基础的 nn.BlaBla 积木块搭出你想要的模型。我们在 `__init__` 里初始化自己要的积木块，然后整个网络的运行逻辑写在 forward 里，大功告成！这里我们要写一个简单神经网络，则定义几个 nn.Linear 模块，然后在 forward 里按照 Linear层 -> ReLU激活层 -> Linear层 -> ReLU激活层 -> Linear层 的顺序搭起来即可。\n",
    " - 数据集 (DataSet)：这里我们的数据集和上个例子相同，只不过需要用 PyTorch 的专属数据集格式来加载。在这个class里，我们要定义这个数据集的总样本个数 (`__len__`)，和一个 `__getitem__` 函数来 get 到相应 index 下的那个 item。\n"
   ]
  },
  {
   "cell_type": "code",
   "execution_count": 4,
   "metadata": {},
   "outputs": [],
   "source": [
    "import numpy as np\n",
    "import torch\n",
    "from torch.utils.data import Dataset, DataLoader\n",
    "import pytorch_lightning as pl\n",
    "import torch.nn.functional as F\n",
    "from sklearn.model_selection import train_test_split\n",
    "from torch import nn\n",
    "import torchmetrics\n",
    "\n",
    "# Define the PyTorch Lightning model\n",
    "class SimpleMLP(pl.LightningModule):\n",
    "    def __init__(self, input_size, hidden_size, output_size):\n",
    "        super(SimpleMLP, self).__init__()\n",
    "        self.layer1 = nn.Linear(input_size, hidden_size) # 定义第一个Linear层\n",
    "        self.layer2 = nn.Linear(hidden_size, hidden_size) # 定义第二个Linear层\n",
    "        self.layer3 = nn.Linear(hidden_size, output_size) # 定义第三个Linear层\n",
    "\n",
    "        self.train_acc = torchmetrics.Accuracy(task=\"multiclass\", num_classes=output_size) # 帮助我们计算准确率的\n",
    "        self.val_acc = torchmetrics.Accuracy(task=\"multiclass\", num_classes=output_size)\n",
    "\n",
    "    def forward(self, x):\n",
    "        # 把积木搭起来\n",
    "        x = F.relu(self.layer1(x))\n",
    "        x = F.relu(self.layer2(x))\n",
    "        x = self.layer3(x)\n",
    "        return x\n",
    "\n",
    "    def training_step(self, batch, batch_idx):\n",
    "        # 这里是pytorch-lightning的扩展功能，定义每个training step (训练每个batch的时候）之后做什么事情\n",
    "        x, y = batch\n",
    "        logits = self(x)\n",
    "        loss = F.cross_entropy(logits, y)\n",
    "        self.train_acc(logits, y)\n",
    "        self.log('train_loss', loss)\n",
    "        self.log('train_acc', self.train_acc, on_step=False, on_epoch=True)\n",
    "        self.log('lr', self.trainer.optimizers[0].param_groups[0]['lr'])\n",
    "        return loss\n",
    "\n",
    "    def validation_step(self, batch, batch_idx):\n",
    "        # 这里是pytorch-lightning的扩展功能，定义每个validaiton step (在当前epoch训练结束后，开始validation的每个batch）之后做什么事情\n",
    "        x, y = batch\n",
    "        logits = self(x)\n",
    "        loss = F.cross_entropy(logits, y)\n",
    "        self.val_acc(logits, y)\n",
    "        self.log('val_loss', loss)\n",
    "        self.log('val_acc', self.val_acc, on_step=False, on_epoch=True)\n",
    "        return loss\n",
    "\n",
    "    def configure_optimizers(self):\n",
    "        # 选用什么优化器 (optimizer) 和学习率调度器 (LR scheduler)\n",
    "        optimizer = torch.optim.Adam(self.parameters(), lr=0.001)\n",
    "        \n",
    "        def lr_lambda(epoch):\n",
    "            if epoch < 0.7 * self.trainer.max_epochs:\n",
    "                return 1.0\n",
    "            else:\n",
    "                decay_factor = (epoch - 0.7 * self.trainer.max_epochs) / (0.3 * self.trainer.max_epochs)\n",
    "                return 0.01 ** decay_factor\n",
    "\n",
    "        scheduler = torch.optim.lr_scheduler.LambdaLR(optimizer, lr_lambda) # LR scheduler定义为从70% epoch开始，指数衰减到1%\n",
    "        return [optimizer], [scheduler]\n",
    "\n",
    "\n",
    "# 定义我们的PyTorch dataset, 参见 https://pytorch.org/tutorials/beginner/basics/data_tutorial.html\n",
    "\n",
    "class DataFrameDataset(Dataset):\n",
    "    def __init__(self, dataframe, input_columns, target_column):\n",
    "        self.dataframe = dataframe\n",
    "        self.inputs = dataframe[input_columns].values\n",
    "        self.targets = dataframe[target_column].values\n",
    "\n",
    "    def __len__(self):\n",
    "        return len(self.dataframe)\n",
    "\n",
    "    def __getitem__(self, idx):\n",
    "        x = torch.tensor(self.inputs[idx], dtype=torch.float32) # N维的待输入网络的特征\n",
    "        y = torch.tensor(self.targets[idx], dtype=torch.long) # 一维的label\n",
    "        return x, y"
   ]
  },
  {
   "cell_type": "markdown",
   "metadata": {},
   "source": [
    "在定义好 PyTorch Model 和 Dataset 的模块后，我们要初始化这两个模块。\n",
    "\n",
    "我们一切的起点是承载数据的 pandas dataframe，它是 PyTorch Dataset 的输入参数。利用 PyTorch Dataset，我们用 PyTorch 自带的 DataLoader 来从这个 Dataset 里面取样本。这里会给定 `batch_size`，即训练模型过程中每一个批次的样本有多大。用这样的 DataLoader 取来的样本，其数据会组装成多维 tensor，第一个维度即为 `batch_size`，也即一批一批数据地取用。"
   ]
  },
  {
   "cell_type": "code",
   "execution_count": 5,
   "metadata": {},
   "outputs": [],
   "source": [
    "input_columns = ['bjet1_pt', 'bjet1_eta', 'bjet1_phi',\n",
    "       'bjet1_eratio', 'bjet1_mass', 'bjet1_ncharged', 'bjet1_nneutrals',\n",
    "       'bjet2_pt', 'bjet2_eta', 'bjet2_phi', 'bjet2_eratio', 'bjet2_mass',\n",
    "       'bjet2_ncharged', 'bjet2_nneutrals', 'lep1_pt', 'lep1_phi', 'lep1_eta',\n",
    "       'lep1_charge', 'lep1_type', 'lep2_pt', 'lep2_phi', 'lep2_eta',\n",
    "       'lep2_charge', 'lep2_type', 'met', 'met_phi']\n",
    "target_column = 'label'\n",
    "\n",
    "# Split the data into training/validation/testing datasets following 80/10/10%\n",
    "train_df, test_df = train_test_split(df, test_size=0.2)\n",
    "val_df, test_df = train_test_split(test_df, test_size=0.5)\n",
    "\n",
    "# Create datasets\n",
    "train_dataset = DataFrameDataset(train_df, [c + '_trans' for c in input_columns], target_column)\n",
    "val_dataset = DataFrameDataset(val_df, [c + '_trans' for c in input_columns], target_column)\n",
    "\n",
    "# Create data loaders\n",
    "train_loader = DataLoader(train_dataset, batch_size=1024, shuffle=True)\n",
    "val_loader = DataLoader(val_dataset, batch_size=1024)\n",
    "\n",
    "# Create Model instance\n",
    "model_mlp = SimpleMLP(input_size=26, hidden_size=64, output_size=2)"
   ]
  },
  {
   "cell_type": "code",
   "execution_count": 6,
   "metadata": {
    "collapsed": true,
    "jupyter": {
     "outputs_hidden": true
    },
    "tags": []
   },
   "outputs": [
    {
     "name": "stderr",
     "output_type": "stream",
     "text": [
      "Trainer will use only 1 of 4 GPUs because it is running inside an interactive / notebook environment. You may try to set `Trainer(devices=4)` but please note that multi-GPU inside interactive / notebook environments is considered experimental and unstable. Your mileage may vary.\n",
      "GPU available: True (cuda), used: True\n",
      "TPU available: False, using: 0 TPU cores\n",
      "IPU available: False, using: 0 IPUs\n",
      "HPU available: False, using: 0 HPUs\n",
      "You are using a CUDA device ('NVIDIA GeForce RTX 3090') that has Tensor Cores. To properly utilize them, you should set `torch.set_float32_matmul_precision('medium' | 'high')` which will trade-off precision for performance. For more details, read https://pytorch.org/docs/stable/generated/torch.set_float32_matmul_precision.html#torch.set_float32_matmul_precision\n",
      "Missing logger folder: tb_logs/simple_mlp\n",
      "LOCAL_RANK: 0 - CUDA_VISIBLE_DEVICES: [0,1,2,3]\n",
      "\n",
      "  | Name      | Type               | Params\n",
      "-------------------------------------------------\n",
      "0 | layer1    | Linear             | 1.7 K \n",
      "1 | layer2    | Linear             | 4.2 K \n",
      "2 | layer3    | Linear             | 130   \n",
      "3 | train_acc | MulticlassAccuracy | 0     \n",
      "4 | val_acc   | MulticlassAccuracy | 0     \n",
      "-------------------------------------------------\n",
      "6.0 K     Trainable params\n",
      "0         Non-trainable params\n",
      "6.0 K     Total params\n",
      "0.024     Total estimated model params size (MB)\n"
     ]
    },
    {
     "data": {
      "application/vnd.jupyter.widget-view+json": {
       "model_id": "1e74b9a0ddd640f3948d6f403f08a5d7",
       "version_major": 2,
       "version_minor": 0
      },
      "text/plain": [
       "Sanity Checking: |          | 0/? [00:00<?, ?it/s]"
      ]
     },
     "metadata": {},
     "output_type": "display_data"
    },
    {
     "name": "stderr",
     "output_type": "stream",
     "text": [
      "/home/olympus/licq/utils/miniconda3/envs/weaver/lib/python3.9/site-packages/pytorch_lightning/trainer/connectors/data_connector.py:441: The 'val_dataloader' does not have many workers which may be a bottleneck. Consider increasing the value of the `num_workers` argument` to `num_workers=71` in the `DataLoader` to improve performance.\n",
      "/home/olympus/licq/utils/miniconda3/envs/weaver/lib/python3.9/site-packages/pytorch_lightning/trainer/connectors/data_connector.py:441: The 'train_dataloader' does not have many workers which may be a bottleneck. Consider increasing the value of the `num_workers` argument` to `num_workers=71` in the `DataLoader` to improve performance.\n"
     ]
    },
    {
     "data": {
      "application/vnd.jupyter.widget-view+json": {
       "model_id": "de830caf77134a80816f47fe96da4244",
       "version_major": 2,
       "version_minor": 0
      },
      "text/plain": [
       "Training: |          | 0/? [00:00<?, ?it/s]"
      ]
     },
     "metadata": {},
     "output_type": "display_data"
    },
    {
     "data": {
      "application/vnd.jupyter.widget-view+json": {
       "model_id": "bc355df142084d7c9ba24463df7de9b7",
       "version_major": 2,
       "version_minor": 0
      },
      "text/plain": [
       "Validation: |          | 0/? [00:00<?, ?it/s]"
      ]
     },
     "metadata": {},
     "output_type": "display_data"
    },
    {
     "data": {
      "application/vnd.jupyter.widget-view+json": {
       "model_id": "5f8117971b90477d9ab6cffecb2c144e",
       "version_major": 2,
       "version_minor": 0
      },
      "text/plain": [
       "Validation: |          | 0/? [00:00<?, ?it/s]"
      ]
     },
     "metadata": {},
     "output_type": "display_data"
    },
    {
     "data": {
      "application/vnd.jupyter.widget-view+json": {
       "model_id": "370041426ae945d199652135186fc33c",
       "version_major": 2,
       "version_minor": 0
      },
      "text/plain": [
       "Validation: |          | 0/? [00:00<?, ?it/s]"
      ]
     },
     "metadata": {},
     "output_type": "display_data"
    },
    {
     "data": {
      "application/vnd.jupyter.widget-view+json": {
       "model_id": "568c296a75c5480c8fd4211db654949c",
       "version_major": 2,
       "version_minor": 0
      },
      "text/plain": [
       "Validation: |          | 0/? [00:00<?, ?it/s]"
      ]
     },
     "metadata": {},
     "output_type": "display_data"
    },
    {
     "data": {
      "application/vnd.jupyter.widget-view+json": {
       "model_id": "e478be41ddf04dbabb19bb34fbe87733",
       "version_major": 2,
       "version_minor": 0
      },
      "text/plain": [
       "Validation: |          | 0/? [00:00<?, ?it/s]"
      ]
     },
     "metadata": {},
     "output_type": "display_data"
    },
    {
     "data": {
      "application/vnd.jupyter.widget-view+json": {
       "model_id": "ead7a2011e9d4acd8b888197035c5316",
       "version_major": 2,
       "version_minor": 0
      },
      "text/plain": [
       "Validation: |          | 0/? [00:00<?, ?it/s]"
      ]
     },
     "metadata": {},
     "output_type": "display_data"
    },
    {
     "data": {
      "application/vnd.jupyter.widget-view+json": {
       "model_id": "096d60a09dfd4cee90b37f50a9215941",
       "version_major": 2,
       "version_minor": 0
      },
      "text/plain": [
       "Validation: |          | 0/? [00:00<?, ?it/s]"
      ]
     },
     "metadata": {},
     "output_type": "display_data"
    },
    {
     "data": {
      "application/vnd.jupyter.widget-view+json": {
       "model_id": "f74a1bf2e07f4671b8e5ac5022d6725e",
       "version_major": 2,
       "version_minor": 0
      },
      "text/plain": [
       "Validation: |          | 0/? [00:00<?, ?it/s]"
      ]
     },
     "metadata": {},
     "output_type": "display_data"
    },
    {
     "data": {
      "application/vnd.jupyter.widget-view+json": {
       "model_id": "ccb60a4ec066450f892e23532c588524",
       "version_major": 2,
       "version_minor": 0
      },
      "text/plain": [
       "Validation: |          | 0/? [00:00<?, ?it/s]"
      ]
     },
     "metadata": {},
     "output_type": "display_data"
    },
    {
     "data": {
      "application/vnd.jupyter.widget-view+json": {
       "model_id": "6d18fc864f354bb28016660ebceae767",
       "version_major": 2,
       "version_minor": 0
      },
      "text/plain": [
       "Validation: |          | 0/? [00:00<?, ?it/s]"
      ]
     },
     "metadata": {},
     "output_type": "display_data"
    },
    {
     "data": {
      "application/vnd.jupyter.widget-view+json": {
       "model_id": "250ea5312251453fa2a5bdbbf9e1fd77",
       "version_major": 2,
       "version_minor": 0
      },
      "text/plain": [
       "Validation: |          | 0/? [00:00<?, ?it/s]"
      ]
     },
     "metadata": {},
     "output_type": "display_data"
    },
    {
     "data": {
      "application/vnd.jupyter.widget-view+json": {
       "model_id": "4ffe5d938a4b456c9c646e6da97bebff",
       "version_major": 2,
       "version_minor": 0
      },
      "text/plain": [
       "Validation: |          | 0/? [00:00<?, ?it/s]"
      ]
     },
     "metadata": {},
     "output_type": "display_data"
    },
    {
     "data": {
      "application/vnd.jupyter.widget-view+json": {
       "model_id": "cae4b3ce88b44a4794f4ed445c0571bd",
       "version_major": 2,
       "version_minor": 0
      },
      "text/plain": [
       "Validation: |          | 0/? [00:00<?, ?it/s]"
      ]
     },
     "metadata": {},
     "output_type": "display_data"
    },
    {
     "data": {
      "application/vnd.jupyter.widget-view+json": {
       "model_id": "362f70da9eab4bd5b50c613be9879af4",
       "version_major": 2,
       "version_minor": 0
      },
      "text/plain": [
       "Validation: |          | 0/? [00:00<?, ?it/s]"
      ]
     },
     "metadata": {},
     "output_type": "display_data"
    },
    {
     "data": {
      "application/vnd.jupyter.widget-view+json": {
       "model_id": "41cbe404dd074472a1cede14b258a5ba",
       "version_major": 2,
       "version_minor": 0
      },
      "text/plain": [
       "Validation: |          | 0/? [00:00<?, ?it/s]"
      ]
     },
     "metadata": {},
     "output_type": "display_data"
    },
    {
     "data": {
      "application/vnd.jupyter.widget-view+json": {
       "model_id": "f41af78bdab14818abd0d8bca0fc63a4",
       "version_major": 2,
       "version_minor": 0
      },
      "text/plain": [
       "Validation: |          | 0/? [00:00<?, ?it/s]"
      ]
     },
     "metadata": {},
     "output_type": "display_data"
    },
    {
     "data": {
      "application/vnd.jupyter.widget-view+json": {
       "model_id": "824cf9aef0774e7d80c24f89efaac6ab",
       "version_major": 2,
       "version_minor": 0
      },
      "text/plain": [
       "Validation: |          | 0/? [00:00<?, ?it/s]"
      ]
     },
     "metadata": {},
     "output_type": "display_data"
    },
    {
     "data": {
      "application/vnd.jupyter.widget-view+json": {
       "model_id": "ce4756ccb31c452e9e7c5d6ba3f4f4f2",
       "version_major": 2,
       "version_minor": 0
      },
      "text/plain": [
       "Validation: |          | 0/? [00:00<?, ?it/s]"
      ]
     },
     "metadata": {},
     "output_type": "display_data"
    },
    {
     "data": {
      "application/vnd.jupyter.widget-view+json": {
       "model_id": "99cc354377c641c783b5c95c540f7770",
       "version_major": 2,
       "version_minor": 0
      },
      "text/plain": [
       "Validation: |          | 0/? [00:00<?, ?it/s]"
      ]
     },
     "metadata": {},
     "output_type": "display_data"
    },
    {
     "data": {
      "application/vnd.jupyter.widget-view+json": {
       "model_id": "80902570eba2492ebaa13a87e474574e",
       "version_major": 2,
       "version_minor": 0
      },
      "text/plain": [
       "Validation: |          | 0/? [00:00<?, ?it/s]"
      ]
     },
     "metadata": {},
     "output_type": "display_data"
    },
    {
     "data": {
      "application/vnd.jupyter.widget-view+json": {
       "model_id": "424b3299d6454e96bf30cb687d4b5f87",
       "version_major": 2,
       "version_minor": 0
      },
      "text/plain": [
       "Validation: |          | 0/? [00:00<?, ?it/s]"
      ]
     },
     "metadata": {},
     "output_type": "display_data"
    },
    {
     "data": {
      "application/vnd.jupyter.widget-view+json": {
       "model_id": "f52b60c312cc48ec9211d49b0a282f5c",
       "version_major": 2,
       "version_minor": 0
      },
      "text/plain": [
       "Validation: |          | 0/? [00:00<?, ?it/s]"
      ]
     },
     "metadata": {},
     "output_type": "display_data"
    },
    {
     "data": {
      "application/vnd.jupyter.widget-view+json": {
       "model_id": "081aeda172784839bebbe8eea59805ac",
       "version_major": 2,
       "version_minor": 0
      },
      "text/plain": [
       "Validation: |          | 0/? [00:00<?, ?it/s]"
      ]
     },
     "metadata": {},
     "output_type": "display_data"
    },
    {
     "data": {
      "application/vnd.jupyter.widget-view+json": {
       "model_id": "8f46d05c108d46efb28959c4beb8b81b",
       "version_major": 2,
       "version_minor": 0
      },
      "text/plain": [
       "Validation: |          | 0/? [00:00<?, ?it/s]"
      ]
     },
     "metadata": {},
     "output_type": "display_data"
    },
    {
     "data": {
      "application/vnd.jupyter.widget-view+json": {
       "model_id": "c4c6fb1050e842999031e214b52ab284",
       "version_major": 2,
       "version_minor": 0
      },
      "text/plain": [
       "Validation: |          | 0/? [00:00<?, ?it/s]"
      ]
     },
     "metadata": {},
     "output_type": "display_data"
    },
    {
     "data": {
      "application/vnd.jupyter.widget-view+json": {
       "model_id": "af75602f11ea494ab5cf49816bd6dff1",
       "version_major": 2,
       "version_minor": 0
      },
      "text/plain": [
       "Validation: |          | 0/? [00:00<?, ?it/s]"
      ]
     },
     "metadata": {},
     "output_type": "display_data"
    },
    {
     "data": {
      "application/vnd.jupyter.widget-view+json": {
       "model_id": "ea3d6e6c053f469ebe5bbfad97656092",
       "version_major": 2,
       "version_minor": 0
      },
      "text/plain": [
       "Validation: |          | 0/? [00:00<?, ?it/s]"
      ]
     },
     "metadata": {},
     "output_type": "display_data"
    },
    {
     "data": {
      "application/vnd.jupyter.widget-view+json": {
       "model_id": "91eb0ccef6704a30b91b954cb222fa5a",
       "version_major": 2,
       "version_minor": 0
      },
      "text/plain": [
       "Validation: |          | 0/? [00:00<?, ?it/s]"
      ]
     },
     "metadata": {},
     "output_type": "display_data"
    },
    {
     "data": {
      "application/vnd.jupyter.widget-view+json": {
       "model_id": "cf1cd02dd88540b1b0190920492b7265",
       "version_major": 2,
       "version_minor": 0
      },
      "text/plain": [
       "Validation: |          | 0/? [00:00<?, ?it/s]"
      ]
     },
     "metadata": {},
     "output_type": "display_data"
    },
    {
     "data": {
      "application/vnd.jupyter.widget-view+json": {
       "model_id": "09ce3b1ac0e84f338101eafabbce86a1",
       "version_major": 2,
       "version_minor": 0
      },
      "text/plain": [
       "Validation: |          | 0/? [00:00<?, ?it/s]"
      ]
     },
     "metadata": {},
     "output_type": "display_data"
    },
    {
     "data": {
      "application/vnd.jupyter.widget-view+json": {
       "model_id": "1f2f11c9162c4681bee37ac697609fb1",
       "version_major": 2,
       "version_minor": 0
      },
      "text/plain": [
       "Validation: |          | 0/? [00:00<?, ?it/s]"
      ]
     },
     "metadata": {},
     "output_type": "display_data"
    },
    {
     "data": {
      "application/vnd.jupyter.widget-view+json": {
       "model_id": "c1848c4a81654db7a10414d5e7e812ce",
       "version_major": 2,
       "version_minor": 0
      },
      "text/plain": [
       "Validation: |          | 0/? [00:00<?, ?it/s]"
      ]
     },
     "metadata": {},
     "output_type": "display_data"
    },
    {
     "data": {
      "application/vnd.jupyter.widget-view+json": {
       "model_id": "b55b6ddcee09438899f7c0facf3f897c",
       "version_major": 2,
       "version_minor": 0
      },
      "text/plain": [
       "Validation: |          | 0/? [00:00<?, ?it/s]"
      ]
     },
     "metadata": {},
     "output_type": "display_data"
    },
    {
     "data": {
      "application/vnd.jupyter.widget-view+json": {
       "model_id": "06d121af9f04483cb04b9b40dd73ecaf",
       "version_major": 2,
       "version_minor": 0
      },
      "text/plain": [
       "Validation: |          | 0/? [00:00<?, ?it/s]"
      ]
     },
     "metadata": {},
     "output_type": "display_data"
    },
    {
     "data": {
      "application/vnd.jupyter.widget-view+json": {
       "model_id": "948ae768310f48238fb9f9149cfcfdeb",
       "version_major": 2,
       "version_minor": 0
      },
      "text/plain": [
       "Validation: |          | 0/? [00:00<?, ?it/s]"
      ]
     },
     "metadata": {},
     "output_type": "display_data"
    },
    {
     "data": {
      "application/vnd.jupyter.widget-view+json": {
       "model_id": "71c59fada1924d039af3072de57026bf",
       "version_major": 2,
       "version_minor": 0
      },
      "text/plain": [
       "Validation: |          | 0/? [00:00<?, ?it/s]"
      ]
     },
     "metadata": {},
     "output_type": "display_data"
    },
    {
     "data": {
      "application/vnd.jupyter.widget-view+json": {
       "model_id": "8f2a18021f7047809e9e84539ec415be",
       "version_major": 2,
       "version_minor": 0
      },
      "text/plain": [
       "Validation: |          | 0/? [00:00<?, ?it/s]"
      ]
     },
     "metadata": {},
     "output_type": "display_data"
    },
    {
     "data": {
      "application/vnd.jupyter.widget-view+json": {
       "model_id": "af4ca161e6a8493e89c06925a48022e0",
       "version_major": 2,
       "version_minor": 0
      },
      "text/plain": [
       "Validation: |          | 0/? [00:00<?, ?it/s]"
      ]
     },
     "metadata": {},
     "output_type": "display_data"
    },
    {
     "data": {
      "application/vnd.jupyter.widget-view+json": {
       "model_id": "d75ad4add9b8469dbc8e0c45fdd5ee51",
       "version_major": 2,
       "version_minor": 0
      },
      "text/plain": [
       "Validation: |          | 0/? [00:00<?, ?it/s]"
      ]
     },
     "metadata": {},
     "output_type": "display_data"
    },
    {
     "data": {
      "application/vnd.jupyter.widget-view+json": {
       "model_id": "81f2cd4835564613b2cb817c8475e6b9",
       "version_major": 2,
       "version_minor": 0
      },
      "text/plain": [
       "Validation: |          | 0/? [00:00<?, ?it/s]"
      ]
     },
     "metadata": {},
     "output_type": "display_data"
    },
    {
     "data": {
      "application/vnd.jupyter.widget-view+json": {
       "model_id": "186e4ec6472149dc9fe572149e5a51b7",
       "version_major": 2,
       "version_minor": 0
      },
      "text/plain": [
       "Validation: |          | 0/? [00:00<?, ?it/s]"
      ]
     },
     "metadata": {},
     "output_type": "display_data"
    },
    {
     "data": {
      "application/vnd.jupyter.widget-view+json": {
       "model_id": "96768fffd6c1455495ca0740e6d49f6e",
       "version_major": 2,
       "version_minor": 0
      },
      "text/plain": [
       "Validation: |          | 0/? [00:00<?, ?it/s]"
      ]
     },
     "metadata": {},
     "output_type": "display_data"
    },
    {
     "data": {
      "application/vnd.jupyter.widget-view+json": {
       "model_id": "91a7474bc3d54a668cc8b48e40769be4",
       "version_major": 2,
       "version_minor": 0
      },
      "text/plain": [
       "Validation: |          | 0/? [00:00<?, ?it/s]"
      ]
     },
     "metadata": {},
     "output_type": "display_data"
    },
    {
     "data": {
      "application/vnd.jupyter.widget-view+json": {
       "model_id": "f67246ad7a7b400c87f206b9a55e8371",
       "version_major": 2,
       "version_minor": 0
      },
      "text/plain": [
       "Validation: |          | 0/? [00:00<?, ?it/s]"
      ]
     },
     "metadata": {},
     "output_type": "display_data"
    },
    {
     "data": {
      "application/vnd.jupyter.widget-view+json": {
       "model_id": "a57f29316c2a4f02bd0bc61834b7ccf9",
       "version_major": 2,
       "version_minor": 0
      },
      "text/plain": [
       "Validation: |          | 0/? [00:00<?, ?it/s]"
      ]
     },
     "metadata": {},
     "output_type": "display_data"
    },
    {
     "data": {
      "application/vnd.jupyter.widget-view+json": {
       "model_id": "7a26b984cd214f59b99b9ad775f343ec",
       "version_major": 2,
       "version_minor": 0
      },
      "text/plain": [
       "Validation: |          | 0/? [00:00<?, ?it/s]"
      ]
     },
     "metadata": {},
     "output_type": "display_data"
    },
    {
     "data": {
      "application/vnd.jupyter.widget-view+json": {
       "model_id": "7cd9a940468643a6ad790087ef796f9c",
       "version_major": 2,
       "version_minor": 0
      },
      "text/plain": [
       "Validation: |          | 0/? [00:00<?, ?it/s]"
      ]
     },
     "metadata": {},
     "output_type": "display_data"
    },
    {
     "data": {
      "application/vnd.jupyter.widget-view+json": {
       "model_id": "f9995e56ae5d47039e3a2b1cf83f2df5",
       "version_major": 2,
       "version_minor": 0
      },
      "text/plain": [
       "Validation: |          | 0/? [00:00<?, ?it/s]"
      ]
     },
     "metadata": {},
     "output_type": "display_data"
    },
    {
     "data": {
      "application/vnd.jupyter.widget-view+json": {
       "model_id": "0b2f0214ca16486d8350ae3d87edbdef",
       "version_major": 2,
       "version_minor": 0
      },
      "text/plain": [
       "Validation: |          | 0/? [00:00<?, ?it/s]"
      ]
     },
     "metadata": {},
     "output_type": "display_data"
    },
    {
     "data": {
      "application/vnd.jupyter.widget-view+json": {
       "model_id": "4fe384b48f5447eba0c014089aaf95ab",
       "version_major": 2,
       "version_minor": 0
      },
      "text/plain": [
       "Validation: |          | 0/? [00:00<?, ?it/s]"
      ]
     },
     "metadata": {},
     "output_type": "display_data"
    },
    {
     "name": "stderr",
     "output_type": "stream",
     "text": [
      "`Trainer.fit` stopped: `max_epochs=50` reached.\n"
     ]
    }
   ],
   "source": [
    "# Trainer with a logger\n",
    "trainer = pl.Trainer(max_epochs=50, logger=pl.loggers.TensorBoardLogger('tb_logs', name='simple_mlp'))\n",
    "\n",
    "# Fit the model\n",
    "trainer.fit(model_mlp, train_loader, val_loader)"
   ]
  },
  {
   "cell_type": "markdown",
   "metadata": {},
   "source": [
    "让我们用训练好的model来在测试集上进行神经网络的推理 (inference)，获得输出结果吧！\n",
    "\n",
    "在标准的神经网络训练的工作流，数据集需要分为三类：训练集 (training dataset)，验证集 (validation dataset) 和测试集 (test dataset)。这里我们偷懒一下，还用验证集来进行测试。"
   ]
  },
  {
   "cell_type": "code",
   "execution_count": 8,
   "metadata": {},
   "outputs": [
    {
     "name": "stderr",
     "output_type": "stream",
     "text": [
      "LOCAL_RANK: 0 - CUDA_VISIBLE_DEVICES: [0,1,2,3]\n",
      "/home/olympus/licq/utils/miniconda3/envs/weaver/lib/python3.9/site-packages/pytorch_lightning/trainer/connectors/data_connector.py:441: The 'predict_dataloader' does not have many workers which may be a bottleneck. Consider increasing the value of the `num_workers` argument` to `num_workers=71` in the `DataLoader` to improve performance.\n"
     ]
    },
    {
     "data": {
      "application/vnd.jupyter.widget-view+json": {
       "model_id": "27aa54b0e7524194b5f245c5906117c2",
       "version_major": 2,
       "version_minor": 0
      },
      "text/plain": [
       "Predicting: |          | 0/? [00:00<?, ?it/s]"
      ]
     },
     "metadata": {},
     "output_type": "display_data"
    }
   ],
   "source": [
    "# 这是一个用于predict score的 dataset，返回只包含输入的feature，而不包含label (和上面的 DataFrameDataset 对比一下)\n",
    "class DataFrameDatasetForInference(Dataset):\n",
    "    def __init__(self, dataframe, input_columns):\n",
    "        self.inputs = dataframe[input_columns].values\n",
    "\n",
    "    def __len__(self):\n",
    "        return len(self.inputs)\n",
    "\n",
    "    def __getitem__(self, idx):\n",
    "        x = torch.tensor(self.inputs[idx], dtype=torch.float32)\n",
    "        return x\n",
    "\n",
    "test_dataset = DataFrameDatasetForInference(test_df, [c + '_trans' for c in input_columns])\n",
    "test_loader = DataLoader(test_dataset, batch_size=1024, shuffle=False)\n",
    "\n",
    "# If your model is saved, load it\n",
    "# model_mlp = SimpleMLP.load_from_checkpoint('path_to_checkpoint.ckpt')\n",
    "\n",
    "# Use the trainer to predict\n",
    "predictions_mlp = trainer.predict(model_mlp, dataloaders=test_loader)\n",
    "\n",
    "# Flatten list of tensors\n",
    "predictions_mlp = [p.numpy() for batch in predictions_mlp for p in batch]"
   ]
  },
  {
   "cell_type": "markdown",
   "metadata": {},
   "source": [
    "这里的prediction是最后一层网络输出的2个 logits，我们使用 `F.cross_entropy` 来计算交叉熵损失时，它内置了先对 logits 取 softmax。\n",
    "所以，我们的这个 logits 没有作 softmax 归一，需要手写一下："
   ]
  },
  {
   "cell_type": "code",
   "execution_count": 9,
   "metadata": {},
   "outputs": [],
   "source": [
    "test_score = np.array([np.exp(p[1]) / (np.exp(p[0]) + np.exp(p[1])) for p in predictions_mlp]) # 注意，我们取第二个神经元，因为它是signal对应的神经元"
   ]
  },
  {
   "cell_type": "markdown",
   "metadata": {},
   "source": [
    "下面做出图像"
   ]
  },
  {
   "cell_type": "code",
   "execution_count": 11,
   "metadata": {},
   "outputs": [
    {
     "data": {
      "text/plain": [
       "(0.0, 1.0)"
      ]
     },
     "execution_count": 11,
     "metadata": {},
     "output_type": "execute_result"
    },
    {
     "data": {
      "image/png": "[encoded data removed]",
      "text/plain": [
       "<Figure size 720x720 with 1 Axes>"
      ]
     },
     "metadata": {
      "needs_background": "light"
     },
     "output_type": "display_data"
    }
   ],
   "source": [
    "import matplotlib.pyplot as plt\n",
    "import mplhep as hep\n",
    "plt.style.use(hep.style.ROOT)\n",
    "\n",
    "plt.hist(test_score[test_df['is_sig']], label=\"SIG (di-Higgs)\", histtype=\"step\", bins=np.linspace(0, 1), density=True)\n",
    "plt.hist(test_score[test_df['is_bkg']], label=r\"BKG ($t\\bar{t}$)\", histtype=\"step\", bins=np.linspace(0, 1), density=True)\n",
    "plt.legend()\n",
    "plt.xlabel(\"Score (Prob. from NN Prediction)\")\n",
    "plt.xlim(0, 1)"
   ]
  },
  {
   "cell_type": "markdown",
   "metadata": {},
   "source": [
    "## 训练一个简单的 Transformer 分类器\n",
    "\n",
    "我们把上一节搭建起的 Transformer 的模块直接搬运过来，训练一个 Transformer 模型。\n",
    "\n",
    "这里要考虑一个重要的问题：**我们的“token”是什么？原本是一维的（dim=26）的固定长度的输入，应该如何展成二维的数据？**\n",
    "\n",
    "### 特殊的 Tokenization\n",
    "\n",
    "很明显地，我们输入的26个特征可以归属为几个更高级别的object的特征：两个b-jet，两个轻子，和一个丢失横动量。尽管我们输入了两个b-jet各自的7个特征，但是我们人为把它们排了序，这本质上破坏了数据内禀的对于b-jet的特征交换不变的特点；对于两个轻子也是类似的。\n",
    "因此，我们**不妨定义5个token**，分别对应这5个object。而且，对于两个b-jet，我们让他们的token embedding共享同一套变换网络；对两个轻子，也共享同一套网络，这就把数据内禀的层级结构嵌入到网络的设计中了。\n",
    "\n",
    "除此以外，我们要定一个[CLS] token，因此放在了第1个位置。这就是我们为这个任务特别定制的 Embeddings 模块：\n",
    "\n",
    "```python\n",
    "class Embeddings(nn.Module):\n",
    "    def __init__(self, config):\n",
    "        super(Embeddings, self).__init__()\n",
    "        self.token_embeddings = nn.ModuleDict()\n",
    "        for token_name, in_dim in zip(['bjet', 'lep', 'met'], [7, 5, 2]):\n",
    "            # embedding layers for three types of tokens: bjet, lep, met, with input vector dim 7, 5, 2\n",
    "            self.token_embeddings[token_name] = nn.Sequential(\n",
    "                nn.Linear(in_dim, config.hidden_size),\n",
    "                nn.GELU(),\n",
    "                nn.Linear(config.hidden_size, config.hidden_size),\n",
    "            )\n",
    "\n",
    "        self.layer_norm = nn.LayerNorm(config.hidden_size)\n",
    "        self.dropout = nn.Dropout(config.hidden_dropout_prob)\n",
    "        # add a trainable class token\n",
    "        self.class_token = nn.Parameter(torch.randn(1, config.hidden_size))\n",
    "\n",
    "    def forward(self, input):\n",
    "        # input has size (batch_size, input_dim=26)\n",
    "        embeddings = []\n",
    "        embeddings.append(self.class_token.expand(input.size(0), -1)) # first token is the [CLS] token\n",
    "        embeddings.append(self.token_embeddings['bjet'](input[:, :7])) # bjet1 token embed by bjet embedding layer\n",
    "        embeddings.append(self.token_embeddings['bjet'](input[:, 7:14])) # bjet2 token embed by bjet embedding layer\n",
    "        embeddings.append(self.token_embeddings['lep'](input[:, 14:19])) # lep1 token embed by lep embedding layer\n",
    "        embeddings.append(self.token_embeddings['lep'](input[:, 19:24])) # lep2 token embed by lep embedding layer\n",
    "        embeddings.append(self.token_embeddings['met'](input[:, 24:])) # met token embed by met embedding layer\n",
    "        embeddings = torch.stack(embeddings, dim=1)\n",
    "        # now embeddings has dim (batch_size, num_tokens, hidden_size)\n",
    "        embeddings = self.layer_norm(embeddings)\n",
    "        embeddings = self.dropout(embeddings)\n",
    "        return embeddings\n",
    "```\n",
    "\n",
    "对于其它模块，我们直接照搬上节的定义如下（请参照上一节的内容，再次理解一下各个模块的含义）。"
   ]
  },
  {
   "cell_type": "code",
   "execution_count": 12,
   "metadata": {},
   "outputs": [],
   "source": [
    "def scaled_dot_product_attention(query, key, value):\n",
    "    dim_k = query.size(-1)\n",
    "    scores = torch.bmm(query, key.transpose(1, 2)) / np.sqrt(dim_k)\n",
    "    weights = F.softmax(scores, dim=-1)\n",
    "    return torch.bmm(weights, value)\n",
    "\n",
    "class AttentionHead(nn.Module):\n",
    "    def __init__(self, embed_dim, head_dim):\n",
    "        super().__init__()\n",
    "        self.q = nn.Linear(embed_dim, head_dim)\n",
    "        self.k = nn.Linear(embed_dim, head_dim)\n",
    "        self.v = nn.Linear(embed_dim, head_dim)\n",
    "\n",
    "    def forward(self, hidden_state):\n",
    "        attn_outputs = scaled_dot_product_attention(\n",
    "            self.q(hidden_state), self.k(hidden_state), self.v(hidden_state))\n",
    "        return attn_outputs\n",
    "\n",
    "class MultiHeadAttention(nn.Module):\n",
    "    def __init__(self, config):\n",
    "        super().__init__()\n",
    "        embed_dim = config.hidden_size\n",
    "        num_heads = config.num_attention_heads\n",
    "        head_dim = embed_dim // num_heads\n",
    "        self.heads = nn.ModuleList(\n",
    "            [AttentionHead(embed_dim, head_dim) for _ in range(num_heads)]\n",
    "        )\n",
    "        self.output_linear = nn.Linear(embed_dim, embed_dim)\n",
    "\n",
    "    def forward(self, hidden_state):\n",
    "        x = torch.cat([h(hidden_state) for h in self.heads], dim=-1)\n",
    "        x = self.output_linear(x)\n",
    "        return x\n",
    "\n",
    "class FeedForward(nn.Module):\n",
    "    def __init__(self, config):\n",
    "        super().__init__()\n",
    "        self.linear_1 = nn.Linear(config.hidden_size, config.intermediate_size)\n",
    "        self.linear_2 = nn.Linear(config.intermediate_size, config.hidden_size)\n",
    "        self.gelu = nn.GELU()\n",
    "        self.dropout = nn.Dropout(config.hidden_dropout_prob)\n",
    "\n",
    "    def forward(self, x):\n",
    "        x = self.linear_1(x)\n",
    "        x = self.gelu(x)\n",
    "        x = self.linear_2(x)\n",
    "        x = self.dropout(x)\n",
    "        return x\n",
    "\n",
    "class TransformerEncoderLayer(nn.Module):\n",
    "    def __init__(self, config):\n",
    "        super().__init__()\n",
    "        self.layer_norm_1 = nn.LayerNorm(config.hidden_size)\n",
    "        self.layer_norm_2 = nn.LayerNorm(config.hidden_size)\n",
    "        self.attention = MultiHeadAttention(config)\n",
    "        self.feed_forward = FeedForward(config)\n",
    "\n",
    "    def forward(self, x):\n",
    "        # Apply layer normalization and then copy input into query, key, value\n",
    "        hidden_state = self.layer_norm_1(x)\n",
    "        # Apply attention with a skip connection\n",
    "        x = x + self.attention(hidden_state)\n",
    "        # Apply feed-forward layer with a skip connection\n",
    "        x = x + self.feed_forward(self.layer_norm_2(x))\n",
    "        return x\n",
    "\n",
    "###### Customized embedding layers ######\n",
    "# 这里是唯一和上节搭建的 Transformer 不同的地方，即上述的 Embeddings 模块\n",
    "class Embeddings(nn.Module):\n",
    "    def __init__(self, config):\n",
    "        super(Embeddings, self).__init__()\n",
    "        self.token_embeddings = nn.ModuleDict()\n",
    "        for token_name, in_dim in zip(['bjet', 'lep', 'met'], [7, 5, 2]):\n",
    "            # embedding layers for three types of tokens: bjet, lep, met, with input vector dim 7, 5, 2\n",
    "            self.token_embeddings[token_name] = nn.Sequential(\n",
    "                nn.Linear(in_dim, config.hidden_size),\n",
    "                nn.GELU(),\n",
    "                nn.Linear(config.hidden_size, config.hidden_size),\n",
    "            )\n",
    "\n",
    "        self.layer_norm = nn.LayerNorm(config.hidden_size)\n",
    "        self.dropout = nn.Dropout(config.hidden_dropout_prob)\n",
    "        # add a trainable class token\n",
    "        self.class_token = nn.Parameter(torch.randn(1, config.hidden_size))\n",
    "\n",
    "    def forward(self, input):\n",
    "        # input has size (batch_size, input_dim=26)\n",
    "        embeddings = []\n",
    "        embeddings.append(self.class_token.expand(input.size(0), -1)) # first token is the [CLS] token\n",
    "        embeddings.append(self.token_embeddings['bjet'](input[:, :7])) # bjet1 token embed by bjet embedding layer\n",
    "        embeddings.append(self.token_embeddings['bjet'](input[:, 7:14])) # bjet2 token embed by bjet embedding layer\n",
    "        embeddings.append(self.token_embeddings['lep'](input[:, 14:19])) # lep1 token embed by lep embedding layer\n",
    "        embeddings.append(self.token_embeddings['lep'](input[:, 19:24])) # lep2 token embed by lep embedding layer\n",
    "        embeddings.append(self.token_embeddings['met'](input[:, 24:])) # met token embed by met embedding layer\n",
    "        embeddings = torch.stack(embeddings, dim=1)\n",
    "        # now embeddings has dim (batch_size, num_tokens, hidden_size)\n",
    "        embeddings = self.layer_norm(embeddings)\n",
    "        embeddings = self.dropout(embeddings)\n",
    "        return embeddings\n",
    "\n",
    "########################################\n",
    "\n",
    "class TransformerEncoder(nn.Module):\n",
    "    def __init__(self, config):\n",
    "        super().__init__()\n",
    "        self.embeddings = Embeddings(config)\n",
    "        self.layers = nn.ModuleList([TransformerEncoderLayer(config)\n",
    "                                     for _ in range(config.num_hidden_layers)])\n",
    "\n",
    "    def forward(self, x):\n",
    "        x = self.embeddings(x)\n",
    "        for layer in self.layers:\n",
    "            x = layer(x)\n",
    "        return x\n",
    "\n",
    "class TransformerForSequenceClassification(nn.Module):\n",
    "    def __init__(self, config):\n",
    "        super().__init__()\n",
    "        self.encoder = TransformerEncoder(config)\n",
    "        self.dropout = nn.Dropout(config.hidden_dropout_prob)\n",
    "        self.classifier = nn.Linear(config.hidden_size, config.num_labels)\n",
    "\n",
    "    def forward(self, x):\n",
    "        x = self.encoder(x)[:, 0, :] # select hidden state of [CLS] token\n",
    "        x = self.dropout(x)\n",
    "        x = self.classifier(x)\n",
    "        return x"
   ]
  },
  {
   "cell_type": "markdown",
   "metadata": {},
   "source": [
    "接下来定义 pytorch-lightning model"
   ]
  },
  {
   "cell_type": "code",
   "execution_count": 13,
   "metadata": {},
   "outputs": [
    {
     "name": "stdout",
     "output_type": "stream",
     "text": [
      "SimpleTransformer(\n",
      "  (mod): TransformerForSequenceClassification(\n",
      "    (encoder): TransformerEncoder(\n",
      "      (embeddings): Embeddings(\n",
      "        (token_embeddings): ModuleDict(\n",
      "          (bjet): Sequential(\n",
      "            (0): Linear(in_features=7, out_features=16, bias=True)\n",
      "            (1): GELU(approximate='none')\n",
      "            (2): Linear(in_features=16, out_features=16, bias=True)\n",
      "          )\n",
      "          (lep): Sequential(\n",
      "            (0): Linear(in_features=5, out_features=16, bias=True)\n",
      "            (1): GELU(approximate='none')\n",
      "            (2): Linear(in_features=16, out_features=16, bias=True)\n",
      "          )\n",
      "          (met): Sequential(\n",
      "            (0): Linear(in_features=2, out_features=16, bias=True)\n",
      "            (1): GELU(approximate='none')\n",
      "            (2): Linear(in_features=16, out_features=16, bias=True)\n",
      "          )\n",
      "        )\n",
      "        (layer_norm): LayerNorm((16,), eps=1e-05, elementwise_affine=True)\n",
      "        (dropout): Dropout(p=0.0, inplace=False)\n",
      "      )\n",
      "      (layers): ModuleList(\n",
      "        (0-3): 4 x TransformerEncoderLayer(\n",
      "          (layer_norm_1): LayerNorm((16,), eps=1e-05, elementwise_affine=True)\n",
      "          (layer_norm_2): LayerNorm((16,), eps=1e-05, elementwise_affine=True)\n",
      "          (attention): MultiHeadAttention(\n",
      "            (heads): ModuleList(\n",
      "              (0-3): 4 x AttentionHead(\n",
      "                (q): Linear(in_features=16, out_features=4, bias=True)\n",
      "                (k): Linear(in_features=16, out_features=4, bias=True)\n",
      "                (v): Linear(in_features=16, out_features=4, bias=True)\n",
      "              )\n",
      "            )\n",
      "            (output_linear): Linear(in_features=16, out_features=16, bias=True)\n",
      "          )\n",
      "          (feed_forward): FeedForward(\n",
      "            (linear_1): Linear(in_features=16, out_features=32, bias=True)\n",
      "            (linear_2): Linear(in_features=32, out_features=16, bias=True)\n",
      "            (gelu): GELU(approximate='none')\n",
      "            (dropout): Dropout(p=0.0, inplace=False)\n",
      "          )\n",
      "        )\n",
      "      )\n",
      "    )\n",
      "    (dropout): Dropout(p=0.0, inplace=False)\n",
      "    (classifier): Linear(in_features=16, out_features=2, bias=True)\n",
      "  )\n",
      "  (train_acc): MulticlassAccuracy()\n",
      "  (val_acc): MulticlassAccuracy()\n",
      ")\n"
     ]
    }
   ],
   "source": [
    "from types import SimpleNamespace\n",
    "config = SimpleNamespace(\n",
    "    hidden_size = 16,  # Hidden size for embeddings and Transformer\n",
    "    num_attention_heads = 4,  # Number of attention heads\n",
    "    intermediate_size = 32,  # Feed forward intermediate size\n",
    "    num_hidden_layers = 4,  # Number of Transformer layers\n",
    "    hidden_dropout_prob = 0.,  # Dropout probability\n",
    "    num_labels = 2  # Number of output classes\n",
    ")\n",
    "\n",
    "# Define the PyTorch Lightning model\n",
    "class SimpleTransformer(pl.LightningModule):\n",
    "    def __init__(self, config):\n",
    "        super(SimpleTransformer, self).__init__()\n",
    "        self.mod = TransformerForSequenceClassification(config)\n",
    "\n",
    "        self.train_acc = torchmetrics.Accuracy(task=\"multiclass\", num_classes=config.num_labels) # 帮助我们计算准确率的\n",
    "        self.val_acc = torchmetrics.Accuracy(task=\"multiclass\", num_classes=config.num_labels)\n",
    "\n",
    "    def forward(self, x):\n",
    "        return self.mod(x)\n",
    "\n",
    "    def training_step(self, batch, batch_idx):\n",
    "        # 这里是pytorch-lightning的扩展功能，定义每个training step (训练每个batch的时候）之后做什么事情\n",
    "        x, y = batch\n",
    "        logits = self(x)\n",
    "        loss = F.cross_entropy(logits, y)\n",
    "        self.train_acc(logits, y)\n",
    "        self.log('train_loss', loss)\n",
    "        self.log('train_acc', self.train_acc, on_step=False, on_epoch=True)\n",
    "        self.log('lr', self.trainer.optimizers[0].param_groups[0]['lr'])\n",
    "        return loss\n",
    "\n",
    "    def validation_step(self, batch, batch_idx):\n",
    "        # 这里是pytorch-lightning的扩展功能，定义每个validaiton step (在当前epoch训练结束后，开始validation的每个batch）之后做什么事情\n",
    "        x, y = batch\n",
    "        logits = self(x)\n",
    "        loss = F.cross_entropy(logits, y)\n",
    "        self.val_acc(logits, y)\n",
    "        self.log('val_loss', loss)\n",
    "        self.log('val_acc', self.val_acc, on_step=False, on_epoch=True)\n",
    "        return loss\n",
    "\n",
    "    def configure_optimizers(self):\n",
    "        # 选用什么优化器 (optimizer) 和学习率调度器 (LR scheduler)\n",
    "        optimizer = torch.optim.Adam(self.parameters(), lr=0.001)\n",
    "        \n",
    "        def lr_lambda(epoch):\n",
    "            if epoch < 0.7 * self.trainer.max_epochs:\n",
    "                return 1.0\n",
    "            else:\n",
    "                decay_factor = (epoch - 0.7 * self.trainer.max_epochs) / (0.3 * self.trainer.max_epochs)\n",
    "                return 0.01 ** decay_factor\n",
    "\n",
    "        scheduler = torch.optim.lr_scheduler.LambdaLR(optimizer, lr_lambda) # LR scheduler定义为从70% epoch开始，指数衰减到1%\n",
    "        return [optimizer], [scheduler]\n",
    "\n",
    "\n",
    "# 定义model的实例\n",
    "model_transformer = SimpleTransformer(config)\n",
    "\n",
    "# 打印下这个模型进行检查\n",
    "print(model_transformer)\n"
   ]
  },
  {
   "cell_type": "code",
   "execution_count": 14,
   "metadata": {},
   "outputs": [
    {
     "name": "stderr",
     "output_type": "stream",
     "text": [
      "Trainer will use only 1 of 4 GPUs because it is running inside an interactive / notebook environment. You may try to set `Trainer(devices=4)` but please note that multi-GPU inside interactive / notebook environments is considered experimental and unstable. Your mileage may vary.\n",
      "GPU available: True (cuda), used: True\n",
      "TPU available: False, using: 0 TPU cores\n",
      "IPU available: False, using: 0 IPUs\n",
      "HPU available: False, using: 0 HPUs\n",
      "Missing logger folder: tb_logs/simple_transformer\n",
      "LOCAL_RANK: 0 - CUDA_VISIBLE_DEVICES: [0,1,2,3]\n",
      "\n",
      "  | Name      | Type                                 | Params\n",
      "-------------------------------------------------------------------\n",
      "0 | mod       | TransformerForSequenceClassification | 10.1 K\n",
      "1 | train_acc | MulticlassAccuracy                   | 0     \n",
      "2 | val_acc   | MulticlassAccuracy                   | 0     \n",
      "-------------------------------------------------------------------\n",
      "10.1 K    Trainable params\n",
      "0         Non-trainable params\n",
      "10.1 K    Total params\n",
      "0.040     Total estimated model params size (MB)\n"
     ]
    },
    {
     "data": {
      "application/vnd.jupyter.widget-view+json": {
       "model_id": "38f6cc5d5ef04673a5f880705d9e9860",
       "version_major": 2,
       "version_minor": 0
      },
      "text/plain": [
       "Sanity Checking: |          | 0/? [00:00<?, ?it/s]"
      ]
     },
     "metadata": {},
     "output_type": "display_data"
    },
    {
     "name": "stderr",
     "output_type": "stream",
     "text": [
      "/home/olympus/licq/utils/miniconda3/envs/weaver/lib/python3.9/site-packages/pytorch_lightning/trainer/connectors/data_connector.py:441: The 'val_dataloader' does not have many workers which may be a bottleneck. Consider increasing the value of the `num_workers` argument` to `num_workers=71` in the `DataLoader` to improve performance.\n",
      "/home/olympus/licq/utils/miniconda3/envs/weaver/lib/python3.9/site-packages/pytorch_lightning/trainer/connectors/data_connector.py:441: The 'train_dataloader' does not have many workers which may be a bottleneck. Consider increasing the value of the `num_workers` argument` to `num_workers=71` in the `DataLoader` to improve performance.\n"
     ]
    },
    {
     "data": {
      "application/vnd.jupyter.widget-view+json": {
       "model_id": "75e5070712fc4f77b29a6ed2da35a8da",
       "version_major": 2,
       "version_minor": 0
      },
      "text/plain": [
       "Training: |          | 0/? [00:00<?, ?it/s]"
      ]
     },
     "metadata": {},
     "output_type": "display_data"
    },
    {
     "data": {
      "application/vnd.jupyter.widget-view+json": {
       "model_id": "79f5febd63ca45c2b7fb6cf74586c98e",
       "version_major": 2,
       "version_minor": 0
      },
      "text/plain": [
       "Validation: |          | 0/? [00:00<?, ?it/s]"
      ]
     },
     "metadata": {},
     "output_type": "display_data"
    },
    {
     "data": {
      "application/vnd.jupyter.widget-view+json": {
       "model_id": "bab25cb4cc7e489bae118b07deb71de7",
       "version_major": 2,
       "version_minor": 0
      },
      "text/plain": [
       "Validation: |          | 0/? [00:00<?, ?it/s]"
      ]
     },
     "metadata": {},
     "output_type": "display_data"
    },
    {
     "data": {
      "application/vnd.jupyter.widget-view+json": {
       "model_id": "e7ef1d462eba4f2e8be3a2d18db2561a",
       "version_major": 2,
       "version_minor": 0
      },
      "text/plain": [
       "Validation: |          | 0/? [00:00<?, ?it/s]"
      ]
     },
     "metadata": {},
     "output_type": "display_data"
    },
    {
     "data": {
      "application/vnd.jupyter.widget-view+json": {
       "model_id": "b567b81f618541f0a6578d84e633acfb",
       "version_major": 2,
       "version_minor": 0
      },
      "text/plain": [
       "Validation: |          | 0/? [00:00<?, ?it/s]"
      ]
     },
     "metadata": {},
     "output_type": "display_data"
    },
    {
     "data": {
      "application/vnd.jupyter.widget-view+json": {
       "model_id": "d2c17409884a4bc0b5595a3b7ab7c31f",
       "version_major": 2,
       "version_minor": 0
      },
      "text/plain": [
       "Validation: |          | 0/? [00:00<?, ?it/s]"
      ]
     },
     "metadata": {},
     "output_type": "display_data"
    },
    {
     "data": {
      "application/vnd.jupyter.widget-view+json": {
       "model_id": "9011266586b048408b2533494c97fb94",
       "version_major": 2,
       "version_minor": 0
      },
      "text/plain": [
       "Validation: |          | 0/? [00:00<?, ?it/s]"
      ]
     },
     "metadata": {},
     "output_type": "display_data"
    },
    {
     "data": {
      "application/vnd.jupyter.widget-view+json": {
       "model_id": "1962504ecd81440e96575a41ab0a2768",
       "version_major": 2,
       "version_minor": 0
      },
      "text/plain": [
       "Validation: |          | 0/? [00:00<?, ?it/s]"
      ]
     },
     "metadata": {},
     "output_type": "display_data"
    },
    {
     "data": {
      "application/vnd.jupyter.widget-view+json": {
       "model_id": "cfb913ba911941cfafad3912215e6a63",
       "version_major": 2,
       "version_minor": 0
      },
      "text/plain": [
       "Validation: |          | 0/? [00:00<?, ?it/s]"
      ]
     },
     "metadata": {},
     "output_type": "display_data"
    },
    {
     "data": {
      "application/vnd.jupyter.widget-view+json": {
       "model_id": "0c153256acb5438a821d143e6ac34e54",
       "version_major": 2,
       "version_minor": 0
      },
      "text/plain": [
       "Validation: |          | 0/? [00:00<?, ?it/s]"
      ]
     },
     "metadata": {},
     "output_type": "display_data"
    },
    {
     "data": {
      "application/vnd.jupyter.widget-view+json": {
       "model_id": "e42a942a16a54523882d777fd2bb7ad9",
       "version_major": 2,
       "version_minor": 0
      },
      "text/plain": [
       "Validation: |          | 0/? [00:00<?, ?it/s]"
      ]
     },
     "metadata": {},
     "output_type": "display_data"
    },
    {
     "data": {
      "application/vnd.jupyter.widget-view+json": {
       "model_id": "d04b013df92e4edfbfcababf47e0f4f6",
       "version_major": 2,
       "version_minor": 0
      },
      "text/plain": [
       "Validation: |          | 0/? [00:00<?, ?it/s]"
      ]
     },
     "metadata": {},
     "output_type": "display_data"
    },
    {
     "data": {
      "application/vnd.jupyter.widget-view+json": {
       "model_id": "8348df9ee9e24995974dc99355b4d61b",
       "version_major": 2,
       "version_minor": 0
      },
      "text/plain": [
       "Validation: |          | 0/? [00:00<?, ?it/s]"
      ]
     },
     "metadata": {},
     "output_type": "display_data"
    },
    {
     "data": {
      "application/vnd.jupyter.widget-view+json": {
       "model_id": "454fc42f04ba4386a585641af7499d01",
       "version_major": 2,
       "version_minor": 0
      },
      "text/plain": [
       "Validation: |          | 0/? [00:00<?, ?it/s]"
      ]
     },
     "metadata": {},
     "output_type": "display_data"
    },
    {
     "data": {
      "application/vnd.jupyter.widget-view+json": {
       "model_id": "0371572bcbdd4c10a1dfa2be2d53181f",
       "version_major": 2,
       "version_minor": 0
      },
      "text/plain": [
       "Validation: |          | 0/? [00:00<?, ?it/s]"
      ]
     },
     "metadata": {},
     "output_type": "display_data"
    },
    {
     "data": {
      "application/vnd.jupyter.widget-view+json": {
       "model_id": "19e96c5a77594701add470c85e033172",
       "version_major": 2,
       "version_minor": 0
      },
      "text/plain": [
       "Validation: |          | 0/? [00:00<?, ?it/s]"
      ]
     },
     "metadata": {},
     "output_type": "display_data"
    },
    {
     "data": {
      "application/vnd.jupyter.widget-view+json": {
       "model_id": "20c9979af4004f36a7f1d1cece95709b",
       "version_major": 2,
       "version_minor": 0
      },
      "text/plain": [
       "Validation: |          | 0/? [00:00<?, ?it/s]"
      ]
     },
     "metadata": {},
     "output_type": "display_data"
    },
    {
     "data": {
      "application/vnd.jupyter.widget-view+json": {
       "model_id": "e6ac2fd3186740e8a4014492733ddd10",
       "version_major": 2,
       "version_minor": 0
      },
      "text/plain": [
       "Validation: |          | 0/? [00:00<?, ?it/s]"
      ]
     },
     "metadata": {},
     "output_type": "display_data"
    },
    {
     "data": {
      "application/vnd.jupyter.widget-view+json": {
       "model_id": "d89447561a1145999e382974b99d6e28",
       "version_major": 2,
       "version_minor": 0
      },
      "text/plain": [
       "Validation: |          | 0/? [00:00<?, ?it/s]"
      ]
     },
     "metadata": {},
     "output_type": "display_data"
    },
    {
     "data": {
      "application/vnd.jupyter.widget-view+json": {
       "model_id": "4ab3c205ffec41bcbeb0a29dc6be441b",
       "version_major": 2,
       "version_minor": 0
      },
      "text/plain": [
       "Validation: |          | 0/? [00:00<?, ?it/s]"
      ]
     },
     "metadata": {},
     "output_type": "display_data"
    },
    {
     "data": {
      "application/vnd.jupyter.widget-view+json": {
       "model_id": "d22ce24fa26647f3b5ade3c51bfe99a6",
       "version_major": 2,
       "version_minor": 0
      },
      "text/plain": [
       "Validation: |          | 0/? [00:00<?, ?it/s]"
      ]
     },
     "metadata": {},
     "output_type": "display_data"
    },
    {
     "data": {
      "application/vnd.jupyter.widget-view+json": {
       "model_id": "665d63ffe9a6413e852619446c86b15a",
       "version_major": 2,
       "version_minor": 0
      },
      "text/plain": [
       "Validation: |          | 0/? [00:00<?, ?it/s]"
      ]
     },
     "metadata": {},
     "output_type": "display_data"
    },
    {
     "data": {
      "application/vnd.jupyter.widget-view+json": {
       "model_id": "9c8763d706be4b2689a67bc8670f8b6c",
       "version_major": 2,
       "version_minor": 0
      },
      "text/plain": [
       "Validation: |          | 0/? [00:00<?, ?it/s]"
      ]
     },
     "metadata": {},
     "output_type": "display_data"
    },
    {
     "data": {
      "application/vnd.jupyter.widget-view+json": {
       "model_id": "42ebc5a80ea7412ba724c76c8712b220",
       "version_major": 2,
       "version_minor": 0
      },
      "text/plain": [
       "Validation: |          | 0/? [00:00<?, ?it/s]"
      ]
     },
     "metadata": {},
     "output_type": "display_data"
    },
    {
     "data": {
      "application/vnd.jupyter.widget-view+json": {
       "model_id": "96e204f705f343c79f9eae31bd114e2e",
       "version_major": 2,
       "version_minor": 0
      },
      "text/plain": [
       "Validation: |          | 0/? [00:00<?, ?it/s]"
      ]
     },
     "metadata": {},
     "output_type": "display_data"
    },
    {
     "data": {
      "application/vnd.jupyter.widget-view+json": {
       "model_id": "95d3eda0ceb845e0b10d5bd2ab2cf149",
       "version_major": 2,
       "version_minor": 0
      },
      "text/plain": [
       "Validation: |          | 0/? [00:00<?, ?it/s]"
      ]
     },
     "metadata": {},
     "output_type": "display_data"
    },
    {
     "data": {
      "application/vnd.jupyter.widget-view+json": {
       "model_id": "c77167a1b75647ef9a1780ae5aa24ce4",
       "version_major": 2,
       "version_minor": 0
      },
      "text/plain": [
       "Validation: |          | 0/? [00:00<?, ?it/s]"
      ]
     },
     "metadata": {},
     "output_type": "display_data"
    },
    {
     "data": {
      "application/vnd.jupyter.widget-view+json": {
       "model_id": "841bc3edd65346b1bf981cdaf03b7a40",
       "version_major": 2,
       "version_minor": 0
      },
      "text/plain": [
       "Validation: |          | 0/? [00:00<?, ?it/s]"
      ]
     },
     "metadata": {},
     "output_type": "display_data"
    },
    {
     "data": {
      "application/vnd.jupyter.widget-view+json": {
       "model_id": "99b06099959c4ceeac53eed9a7531288",
       "version_major": 2,
       "version_minor": 0
      },
      "text/plain": [
       "Validation: |          | 0/? [00:00<?, ?it/s]"
      ]
     },
     "metadata": {},
     "output_type": "display_data"
    },
    {
     "data": {
      "application/vnd.jupyter.widget-view+json": {
       "model_id": "9af3273f735942e8a476c868914f010b",
       "version_major": 2,
       "version_minor": 0
      },
      "text/plain": [
       "Validation: |          | 0/? [00:00<?, ?it/s]"
      ]
     },
     "metadata": {},
     "output_type": "display_data"
    },
    {
     "data": {
      "application/vnd.jupyter.widget-view+json": {
       "model_id": "d8cdc8e0d0bf4a7aab6d20afa88a7005",
       "version_major": 2,
       "version_minor": 0
      },
      "text/plain": [
       "Validation: |          | 0/? [00:00<?, ?it/s]"
      ]
     },
     "metadata": {},
     "output_type": "display_data"
    },
    {
     "data": {
      "application/vnd.jupyter.widget-view+json": {
       "model_id": "cf07840be1424f3e8d67f5ae8803e26d",
       "version_major": 2,
       "version_minor": 0
      },
      "text/plain": [
       "Validation: |          | 0/? [00:00<?, ?it/s]"
      ]
     },
     "metadata": {},
     "output_type": "display_data"
    },
    {
     "data": {
      "application/vnd.jupyter.widget-view+json": {
       "model_id": "743bd23e8bf64a27bf975d6da2017795",
       "version_major": 2,
       "version_minor": 0
      },
      "text/plain": [
       "Validation: |          | 0/? [00:00<?, ?it/s]"
      ]
     },
     "metadata": {},
     "output_type": "display_data"
    },
    {
     "data": {
      "application/vnd.jupyter.widget-view+json": {
       "model_id": "c36f1b24927c40cdb51c12b494337cf5",
       "version_major": 2,
       "version_minor": 0
      },
      "text/plain": [
       "Validation: |          | 0/? [00:00<?, ?it/s]"
      ]
     },
     "metadata": {},
     "output_type": "display_data"
    },
    {
     "data": {
      "application/vnd.jupyter.widget-view+json": {
       "model_id": "71e4a69ac9834a2cb41beae06b3778c9",
       "version_major": 2,
       "version_minor": 0
      },
      "text/plain": [
       "Validation: |          | 0/? [00:00<?, ?it/s]"
      ]
     },
     "metadata": {},
     "output_type": "display_data"
    },
    {
     "data": {
      "application/vnd.jupyter.widget-view+json": {
       "model_id": "cded5ae1e6b84487bb74d4f72ef89d2f",
       "version_major": 2,
       "version_minor": 0
      },
      "text/plain": [
       "Validation: |          | 0/? [00:00<?, ?it/s]"
      ]
     },
     "metadata": {},
     "output_type": "display_data"
    },
    {
     "data": {
      "application/vnd.jupyter.widget-view+json": {
       "model_id": "f02d51a84e4e44f692415ba96259fb80",
       "version_major": 2,
       "version_minor": 0
      },
      "text/plain": [
       "Validation: |          | 0/? [00:00<?, ?it/s]"
      ]
     },
     "metadata": {},
     "output_type": "display_data"
    },
    {
     "data": {
      "application/vnd.jupyter.widget-view+json": {
       "model_id": "726fcebf73d54a5cade4f66db9a0efbc",
       "version_major": 2,
       "version_minor": 0
      },
      "text/plain": [
       "Validation: |          | 0/? [00:00<?, ?it/s]"
      ]
     },
     "metadata": {},
     "output_type": "display_data"
    },
    {
     "data": {
      "application/vnd.jupyter.widget-view+json": {
       "model_id": "9fe9e214244c4391a68913fdb14b35f8",
       "version_major": 2,
       "version_minor": 0
      },
      "text/plain": [
       "Validation: |          | 0/? [00:00<?, ?it/s]"
      ]
     },
     "metadata": {},
     "output_type": "display_data"
    },
    {
     "data": {
      "application/vnd.jupyter.widget-view+json": {
       "model_id": "0638c7c0635c401ca6d44ba584dd1e0f",
       "version_major": 2,
       "version_minor": 0
      },
      "text/plain": [
       "Validation: |          | 0/? [00:00<?, ?it/s]"
      ]
     },
     "metadata": {},
     "output_type": "display_data"
    },
    {
     "data": {
      "application/vnd.jupyter.widget-view+json": {
       "model_id": "deec5db4153046b49207728d237d1ca7",
       "version_major": 2,
       "version_minor": 0
      },
      "text/plain": [
       "Validation: |          | 0/? [00:00<?, ?it/s]"
      ]
     },
     "metadata": {},
     "output_type": "display_data"
    },
    {
     "data": {
      "application/vnd.jupyter.widget-view+json": {
       "model_id": "26cc59c8b31b4f8ea3ef21f527a196a3",
       "version_major": 2,
       "version_minor": 0
      },
      "text/plain": [
       "Validation: |          | 0/? [00:00<?, ?it/s]"
      ]
     },
     "metadata": {},
     "output_type": "display_data"
    },
    {
     "data": {
      "application/vnd.jupyter.widget-view+json": {
       "model_id": "91424a004122415d8cfcebbfaf5138be",
       "version_major": 2,
       "version_minor": 0
      },
      "text/plain": [
       "Validation: |          | 0/? [00:00<?, ?it/s]"
      ]
     },
     "metadata": {},
     "output_type": "display_data"
    },
    {
     "data": {
      "application/vnd.jupyter.widget-view+json": {
       "model_id": "2df29752ec4440c68239d9e2ec2427be",
       "version_major": 2,
       "version_minor": 0
      },
      "text/plain": [
       "Validation: |          | 0/? [00:00<?, ?it/s]"
      ]
     },
     "metadata": {},
     "output_type": "display_data"
    },
    {
     "data": {
      "application/vnd.jupyter.widget-view+json": {
       "model_id": "c7e973aa87344ab9b09225acf79381be",
       "version_major": 2,
       "version_minor": 0
      },
      "text/plain": [
       "Validation: |          | 0/? [00:00<?, ?it/s]"
      ]
     },
     "metadata": {},
     "output_type": "display_data"
    },
    {
     "data": {
      "application/vnd.jupyter.widget-view+json": {
       "model_id": "54d09af887594edaaa74663a3c3f9ffc",
       "version_major": 2,
       "version_minor": 0
      },
      "text/plain": [
       "Validation: |          | 0/? [00:00<?, ?it/s]"
      ]
     },
     "metadata": {},
     "output_type": "display_data"
    },
    {
     "data": {
      "application/vnd.jupyter.widget-view+json": {
       "model_id": "5b26db8239b2457aaa0fdc6c3b518e2b",
       "version_major": 2,
       "version_minor": 0
      },
      "text/plain": [
       "Validation: |          | 0/? [00:00<?, ?it/s]"
      ]
     },
     "metadata": {},
     "output_type": "display_data"
    },
    {
     "data": {
      "application/vnd.jupyter.widget-view+json": {
       "model_id": "f5f6c2dec2b4443bafe9af30940effc8",
       "version_major": 2,
       "version_minor": 0
      },
      "text/plain": [
       "Validation: |          | 0/? [00:00<?, ?it/s]"
      ]
     },
     "metadata": {},
     "output_type": "display_data"
    },
    {
     "data": {
      "application/vnd.jupyter.widget-view+json": {
       "model_id": "1540655d84bc4b7bb59e13e1044126d1",
       "version_major": 2,
       "version_minor": 0
      },
      "text/plain": [
       "Validation: |          | 0/? [00:00<?, ?it/s]"
      ]
     },
     "metadata": {},
     "output_type": "display_data"
    },
    {
     "data": {
      "application/vnd.jupyter.widget-view+json": {
       "model_id": "8426b24179b34047abd224b6b104bfd4",
       "version_major": 2,
       "version_minor": 0
      },
      "text/plain": [
       "Validation: |          | 0/? [00:00<?, ?it/s]"
      ]
     },
     "metadata": {},
     "output_type": "display_data"
    },
    {
     "data": {
      "application/vnd.jupyter.widget-view+json": {
       "model_id": "5b851751202e4fd388bb3c519d9f4b0c",
       "version_major": 2,
       "version_minor": 0
      },
      "text/plain": [
       "Validation: |          | 0/? [00:00<?, ?it/s]"
      ]
     },
     "metadata": {},
     "output_type": "display_data"
    },
    {
     "name": "stderr",
     "output_type": "stream",
     "text": [
      "`Trainer.fit` stopped: `max_epochs=50` reached.\n"
     ]
    }
   ],
   "source": [
    "# Trainer with a logger\n",
    "trainer = pl.Trainer(max_epochs=50, logger=pl.loggers.TensorBoardLogger('tb_logs', name='simple_transformer'))\n",
    "\n",
    "# Fit the model\n",
    "trainer.fit(model_transformer, train_loader, val_loader)"
   ]
  },
  {
   "cell_type": "markdown",
   "metadata": {},
   "source": [
    "### 思考问题\n",
    "\n",
    "1. `token_embeddings` 为什么是三个？分别是什么？为什么`in_features`不一样，而`out_features`必须一样？\n",
    "```\n",
    "(token_embeddings): ModuleDict(\n",
    "  (bjet): Sequential(\n",
    "    (0): Linear(in_features=7, out_features=16, bias=True)\n",
    "    (1): GELU(approximate='none')\n",
    "    (2): Linear(in_features=16, out_features=16, bias=True)\n",
    "  )\n",
    "  (lep): Sequential(\n",
    "    (0): Linear(in_features=5, out_features=16, bias=True)\n",
    "    (1): GELU(approximate='none')\n",
    "    (2): Linear(in_features=16, out_features=16, bias=True)\n",
    "  )\n",
    "  (met): Sequential(\n",
    "    (0): Linear(in_features=2, out_features=16, bias=True)\n",
    "    (1): GELU(approximate='none')\n",
    "    (2): Linear(in_features=16, out_features=16, bias=True)\n",
    "  )\n",
    ")\n",
    "```\n",
    "2. 这里定义的`q`, `k`, `v` 三个线性层，为什么`output_features`变成了4？\n",
    "```\n",
    "(heads): ModuleList(\n",
    "  (0-3): 4 x AttentionHead(\n",
    "    (q): Linear(in_features=16, out_features=4, bias=True)\n",
    "    (k): Linear(in_features=16, out_features=4, bias=True)\n",
    "    (v): Linear(in_features=16, out_features=4, bias=True)\n",
    "  )\n",
    ")\n",
    "```\n",
    "\n",
    "下面我们依然在测试集上检查最终输出score的分布图："
   ]
  },
  {
   "cell_type": "code",
   "execution_count": 15,
   "metadata": {},
   "outputs": [
    {
     "name": "stderr",
     "output_type": "stream",
     "text": [
      "LOCAL_RANK: 0 - CUDA_VISIBLE_DEVICES: [0,1,2,3]\n",
      "/home/olympus/licq/utils/miniconda3/envs/weaver/lib/python3.9/site-packages/pytorch_lightning/trainer/connectors/data_connector.py:441: The 'predict_dataloader' does not have many workers which may be a bottleneck. Consider increasing the value of the `num_workers` argument` to `num_workers=71` in the `DataLoader` to improve performance.\n"
     ]
    },
    {
     "data": {
      "application/vnd.jupyter.widget-view+json": {
       "model_id": "1be8931b17a8433cad48228c5b6d30eb",
       "version_major": 2,
       "version_minor": 0
      },
      "text/plain": [
       "Predicting: |          | 0/? [00:00<?, ?it/s]"
      ]
     },
     "metadata": {},
     "output_type": "display_data"
    },
    {
     "data": {
      "text/plain": [
       "(0.0, 1.0)"
      ]
     },
     "execution_count": 15,
     "metadata": {},
     "output_type": "execute_result"
    },
    {
     "data": {
      "image/png": "[encoded data removed]",
      "text/plain": [
       "<Figure size 720x720 with 1 Axes>"
      ]
     },
     "metadata": {
      "needs_background": "light"
     },
     "output_type": "display_data"
    }
   ],
   "source": [
    "# Use the trainer to predict\n",
    "predictions_transformer = trainer.predict(model_transformer, dataloaders=test_loader)\n",
    "predictions_transformer = [p.numpy() for batch in predictions_transformer for p in batch]\n",
    "\n",
    "test_score = np.array([np.exp(p[1]) / (np.exp(p[0]) + np.exp(p[1])) for p in predictions_transformer]) # 注意，我们取第二个神经元，因为它是signal对应的神经元\n",
    "\n",
    "## 下面做出图像\n",
    "\n",
    "import matplotlib.pyplot as plt\n",
    "import mplhep as hep\n",
    "plt.style.use(hep.style.ROOT)\n",
    "\n",
    "plt.hist(test_score[test_df['is_sig']], label=\"SIG (di-Higgs)\", histtype=\"step\", bins=np.linspace(0, 1), density=True)\n",
    "plt.hist(test_score[test_df['is_bkg']], label=r\"BKG ($t\\bar{t}$)\", histtype=\"step\", bins=np.linspace(0, 1), density=True)\n",
    "plt.legend()\n",
    "plt.xlabel(\"Score (Prob. from Transformer Prediction)\")\n",
    "plt.xlim(0, 1)"
   ]
  },
  {
   "cell_type": "markdown",
   "metadata": {},
   "source": [
    "### 用 Tensorboard 监控输出\n",
    "\n",
    "Tensorboard 是非常方便的检查训练、检测指标的监控软件，如果用过Jupyter，它的用法和Jupyter非常相似：打开一个Tensorboard服务，然后在浏览器访问特定的端口，就可以使用服务了。\n",
    "\n",
    "在notebook中可以用如下的魔术命令打开Tensorboard："
   ]
  },
  {
   "cell_type": "code",
   "execution_count": null,
   "metadata": {},
   "outputs": [],
   "source": [
    "%load_ext tensorboard"
   ]
  },
  {
   "cell_type": "code",
   "execution_count": null,
   "metadata": {},
   "outputs": [],
   "source": [
    "%tensorboard --logdir tb_logs\n",
    "\n",
    "## 如果在 Google Colab 上，这可以直接成功。\n",
    "\n",
    "## 如果在高能所lxlogin上运行，则还需要把 TensorBoard 服务的端口绑定到本地端口，就像开启 Jupyter 服务时那样。\n",
    "## 例如，如报错信息，显示 Reusing TensorBoard on port 6006，则把 6006 端口绑定到本地 6006 端口\n",
    "## 新开一个本地的shell，然后执行: ssh -L 6006:localhost:6006 <相应lxlogin节点>"
   ]
  },
  {
   "cell_type": "markdown",
   "metadata": {},
   "source": [
    "可以看到 MLP 和 Transformer 的训练准确率（Accuracy）和损失函数（Loss）的曲线分别是这样的。Transformer 的表现稍微胜过 MLP。\n",
    "\n",
    "<img src=\"figures/tensorboard_output.png\" alt=\"image\" width=900/>"
   ]
  },
  {
   "cell_type": "markdown",
   "metadata": {},
   "source": [
    "## 简化 Transformer 的实现"
   ]
  },
  {
   "cell_type": "markdown",
   "metadata": {},
   "source": [
    "最后，让我们用 PyTorch 自带的 Transformer 模块来简化前面手动搭建的实现方式吧。\n",
    "\n",
    "PyTorch 提供了 `nn.MultiheadAttention` 模块，对 attention 机制进行了完整的实现。这可以参考：https://pytorch.org/docs/stable/generated/torch.nn.MultiheadAttention.html\n",
    "\n",
    "<img src=\"figures/nn-MultiheadAttention.png\" alt=\"Drawing\" width=800/>\n",
    "\n",
    "不过，这并不是完整 Transformer block 的实现，因为它不包含后面的两层 FFN，对夹在 attention 和 FFN 之间的 layernorm，和残差连接。根据上面的公式，它实际做的是：\n",
    "\n",
    " - 对输入的 $Q$, $K$, $V$，各自线性变换(利用上面的 $W_Q$, $W_K$, $W_V$矩阵，但是有head个，即下角标$i$区分的)\n",
    " - 计算 attention（即对每个$i$-th head来说，变换后的 $Q$ 和 $K$ 点积，除以 $\\sqrt{d}$，然后作softmax，把系数乘以变换后的 $V$)，得到 $head_i$\n",
    " - 把 $head_i$ 连接起来，最后线性变换得到 output\n",
    "\n",
    "容易看出，如果按照之前搭建的 Transformer 的逻辑看，在实际使用这个定义好的 MultiheadAttention 模块时，输入的 $Q$, $K$, $V$ 是相同的变量就可以了。\n",
    "\n",
    "不过，还有下面一些小细节需要留意：\n",
    "\n",
    " - $Q$, $K$, $V$ 默认是的维度 (seq, batch, feature)，这和自然语言处理领域的惯例。然而对于视觉领域（和我们的物理应用领域等），是把batch放到第一个维度，即 (batch, seq, feature)。因此需要指定 `batch_first=True`。这一点可以参见参数的说明：\n",
    "   > **batch_first** – If `True`, then the input and output tensors are provided as (batch, seq, feature). Default: `False` (seq, batch, feature).\n",
    "\n",
    " - 对于 Transformer 的训练传统来说，默认是需要添加 attention dropout 的，也即对N的token两两构称的 $N^2$ 的 attention weight 进行一个 dropout。除了 attention dropout，也会在 FFN 最后施加 dropout。上面例子里没有施加前者，后者使用 `hidden_dropout_prob` 添加 dropout （虽然也是0）。为了保持一致，我们让前者的dropout=0，后者由 `hidden_dropout_prob` 控制。\n",
    "\n",
    " - 在 attention 和 FFN 阶段，layernorm 的施加和 attention、FFN 计算的先后顺序一般没有明确的规范。我们这里希望与上面手动搭建的 Transformer 的方式保持一致，即 layernorm 放在最前面。"
   ]
  },
  {
   "cell_type": "markdown",
   "metadata": {},
   "source": [
    "\n",
    "下面的 `BasicTransformerBlock` 是我们搭建的完整 Transformer block，可以发现简化了许多。`BasicTransformerForClassification` 进一步把 Embeddings，多层blocks，以及最后的分类头整合了起来。"
   ]
  },
  {
   "cell_type": "code",
   "execution_count": 16,
   "metadata": {},
   "outputs": [],
   "source": [
    "class BasicTransformerBlock(nn.Module):\n",
    "    def __init__(self, embed_dim, num_heads, ff_hidden_dim, attn_dropout=0.1, dropout=0.1):\n",
    "        super(BasicTransformerBlock, self).__init__()\n",
    "        self.attention = nn.MultiheadAttention(embed_dim, num_heads, dropout=attn_dropout, batch_first=True)\n",
    "        self.norm1 = nn.LayerNorm(embed_dim)\n",
    "        self.ff = nn.Sequential(\n",
    "            nn.Linear(embed_dim, ff_hidden_dim),\n",
    "            nn.GELU(),\n",
    "            nn.Linear(ff_hidden_dim, embed_dim)\n",
    "        )\n",
    "        self.norm2 = nn.LayerNorm(embed_dim)\n",
    "        self.dropout = nn.Dropout(dropout)\n",
    "\n",
    "    def forward(self, x):\n",
    "        # Self-attention\n",
    "        x = self.norm1(x) # the first layernorm\n",
    "        attn_output, _ = self.attention(x, x, x) # input Q, K, V are the same\n",
    "        x = x + self.dropout(attn_output) # the first residual connection\n",
    "        \n",
    "        # Feed-forward\n",
    "        x = self.norm2(x) # the second layernorm\n",
    "        ff_output = self.ff(x)\n",
    "        x = x + self.dropout(ff_output) # the second residual connection\n",
    "\n",
    "        return x\n",
    "\n",
    "\n",
    "class BasicTransformerForClassification(nn.Module):\n",
    "    def __init__(self, config):\n",
    "        super().__init__()\n",
    "        self.embeddings = Embeddings(config) # the same Embeddings module as before\n",
    "        self.blocks = nn.ModuleList(\n",
    "            [BasicTransformerBlock(config.hidden_size, config.num_attention_heads, config.intermediate_size, attn_dropout=0., dropout=config.hidden_dropout_prob) \n",
    "             for _ in range(config.num_hidden_layers)]\n",
    "            )\n",
    "        self.dropout = nn.Dropout(config.hidden_dropout_prob)\n",
    "        self.classifier = nn.Linear(config.hidden_size, config.num_labels)\n",
    "\n",
    "    def forward(self, x):\n",
    "        x = self.embeddings(x)\n",
    "        for block in self.blocks:\n",
    "            x = block(x)\n",
    "        x = x[:, 0, :] # select hidden state of [CLS] token\n",
    "        x = self.dropout(x)\n",
    "        x = self.classifier(x)\n",
    "        return x"
   ]
  },
  {
   "cell_type": "markdown",
   "metadata": {},
   "source": [
    "用上面例子相同的 config 来初始化这个新的 Transformer 模型"
   ]
  },
  {
   "cell_type": "code",
   "execution_count": 17,
   "metadata": {},
   "outputs": [
    {
     "name": "stdout",
     "output_type": "stream",
     "text": [
      "BasicTransformer(\n",
      "  (mod): BasicTransformerForClassification(\n",
      "    (embeddings): Embeddings(\n",
      "      (token_embeddings): ModuleDict(\n",
      "        (bjet): Sequential(\n",
      "          (0): Linear(in_features=7, out_features=16, bias=True)\n",
      "          (1): GELU(approximate='none')\n",
      "          (2): Linear(in_features=16, out_features=16, bias=True)\n",
      "        )\n",
      "        (lep): Sequential(\n",
      "          (0): Linear(in_features=5, out_features=16, bias=True)\n",
      "          (1): GELU(approximate='none')\n",
      "          (2): Linear(in_features=16, out_features=16, bias=True)\n",
      "        )\n",
      "        (met): Sequential(\n",
      "          (0): Linear(in_features=2, out_features=16, bias=True)\n",
      "          (1): GELU(approximate='none')\n",
      "          (2): Linear(in_features=16, out_features=16, bias=True)\n",
      "        )\n",
      "      )\n",
      "      (layer_norm): LayerNorm((16,), eps=1e-05, elementwise_affine=True)\n",
      "      (dropout): Dropout(p=0.0, inplace=False)\n",
      "    )\n",
      "    (blocks): ModuleList(\n",
      "      (0-3): 4 x BasicTransformerBlock(\n",
      "        (attention): MultiheadAttention(\n",
      "          (out_proj): NonDynamicallyQuantizableLinear(in_features=16, out_features=16, bias=True)\n",
      "        )\n",
      "        (norm1): LayerNorm((16,), eps=1e-05, elementwise_affine=True)\n",
      "        (ff): Sequential(\n",
      "          (0): Linear(in_features=16, out_features=32, bias=True)\n",
      "          (1): GELU(approximate='none')\n",
      "          (2): Linear(in_features=32, out_features=16, bias=True)\n",
      "        )\n",
      "        (norm2): LayerNorm((16,), eps=1e-05, elementwise_affine=True)\n",
      "        (dropout): Dropout(p=0.0, inplace=False)\n",
      "      )\n",
      "    )\n",
      "    (dropout): Dropout(p=0.0, inplace=False)\n",
      "    (classifier): Linear(in_features=16, out_features=2, bias=True)\n",
      "  )\n",
      "  (train_acc): MulticlassAccuracy()\n",
      "  (val_acc): MulticlassAccuracy()\n",
      ")\n"
     ]
    }
   ],
   "source": [
    "from types import SimpleNamespace\n",
    "config = SimpleNamespace(\n",
    "    hidden_size = 16,  # Hidden size for embeddings and Transformer\n",
    "    num_attention_heads = 4,  # Number of attention heads\n",
    "    intermediate_size = 32,  # Feed forward intermediate size\n",
    "    num_hidden_layers = 4,  # Number of Transformer layers\n",
    "    hidden_dropout_prob = 0.,  # Dropout probability\n",
    "    num_labels = 2  # Number of output classes\n",
    ")\n",
    "\n",
    "# Define the PyTorch Lightning model\n",
    "class BasicTransformer(pl.LightningModule):\n",
    "    def __init__(self, config):\n",
    "        super().__init__()\n",
    "        self.mod = BasicTransformerForClassification(config)\n",
    "\n",
    "        self.train_acc = torchmetrics.Accuracy(task=\"multiclass\", num_classes=config.num_labels) # 帮助我们计算准确率的\n",
    "        self.val_acc = torchmetrics.Accuracy(task=\"multiclass\", num_classes=config.num_labels)\n",
    "\n",
    "    def forward(self, x):\n",
    "        return self.mod(x)\n",
    "\n",
    "    def training_step(self, batch, batch_idx):\n",
    "        # 这里是pytorch-lightning的扩展功能，定义每个training step (训练每个batch的时候）之后做什么事情\n",
    "        x, y = batch\n",
    "        logits = self(x)\n",
    "        loss = F.cross_entropy(logits, y)\n",
    "        self.train_acc(logits, y)\n",
    "        self.log('train_loss', loss)\n",
    "        self.log('train_acc', self.train_acc, on_step=False, on_epoch=True)\n",
    "        self.log('lr', self.trainer.optimizers[0].param_groups[0]['lr'])\n",
    "        return loss\n",
    "\n",
    "    def validation_step(self, batch, batch_idx):\n",
    "        # 这里是pytorch-lightning的扩展功能，定义每个validaiton step (在当前epoch训练结束后，开始validation的每个batch）之后做什么事情\n",
    "        x, y = batch\n",
    "        logits = self(x)\n",
    "        loss = F.cross_entropy(logits, y)\n",
    "        self.val_acc(logits, y)\n",
    "        self.log('val_loss', loss)\n",
    "        self.log('val_acc', self.val_acc, on_step=False, on_epoch=True)\n",
    "        return loss\n",
    "\n",
    "    def configure_optimizers(self):\n",
    "        # 选用什么优化器 (optimizer) 和学习率调度器 (LR scheduler)\n",
    "        optimizer = torch.optim.Adam(self.parameters(), lr=0.001)\n",
    "        \n",
    "        def lr_lambda(epoch):\n",
    "            if epoch < 0.7 * self.trainer.max_epochs:\n",
    "                return 1.0\n",
    "            else:\n",
    "                decay_factor = (epoch - 0.7 * self.trainer.max_epochs) / (0.3 * self.trainer.max_epochs)\n",
    "                return 0.01 ** decay_factor\n",
    "\n",
    "        scheduler = torch.optim.lr_scheduler.LambdaLR(optimizer, lr_lambda) # LR scheduler定义为从70% epoch开始，指数衰减到1%\n",
    "        return [optimizer], [scheduler]\n",
    "\n",
    "# 定义model的实例\n",
    "model_transformer_pytorchimpl = BasicTransformer(config)\n",
    "\n",
    "# 打印下这个模型进行检查\n",
    "print(model_transformer_pytorchimpl)\n"
   ]
  },
  {
   "cell_type": "markdown",
   "metadata": {},
   "source": [
    "看到模型输出的结构简化了许多，这是因为 attention 完全是由内置函数实现的。\n",
    "\n",
    "现在我们开始训练:\n",
    "\n",
    "> 从下面的输出可以看出，参数量和上面手动搭建的 Transformer 是一样的。从训练进度条来看，速度比上面的版本快了~30-40%。这说明使用PyTorch内建的模块确实有优势，本节最后会进行粗浅的分析。"
   ]
  },
  {
   "cell_type": "code",
   "execution_count": 18,
   "metadata": {},
   "outputs": [
    {
     "name": "stderr",
     "output_type": "stream",
     "text": [
      "Trainer will use only 1 of 4 GPUs because it is running inside an interactive / notebook environment. You may try to set `Trainer(devices=4)` but please note that multi-GPU inside interactive / notebook environments is considered experimental and unstable. Your mileage may vary.\n",
      "GPU available: True (cuda), used: True\n",
      "TPU available: False, using: 0 TPU cores\n",
      "IPU available: False, using: 0 IPUs\n",
      "HPU available: False, using: 0 HPUs\n",
      "Missing logger folder: tb_logs/simple_transformer_pytorchimpl\n",
      "LOCAL_RANK: 0 - CUDA_VISIBLE_DEVICES: [0,1,2,3]\n",
      "\n",
      "  | Name      | Type                              | Params\n",
      "----------------------------------------------------------------\n",
      "0 | mod       | BasicTransformerForClassification | 10.1 K\n",
      "1 | train_acc | MulticlassAccuracy                | 0     \n",
      "2 | val_acc   | MulticlassAccuracy                | 0     \n",
      "----------------------------------------------------------------\n",
      "10.1 K    Trainable params\n",
      "0         Non-trainable params\n",
      "10.1 K    Total params\n",
      "0.040     Total estimated model params size (MB)\n"
     ]
    },
    {
     "data": {
      "application/vnd.jupyter.widget-view+json": {
       "model_id": "e222a71dad1b41fbb27393094394b3fa",
       "version_major": 2,
       "version_minor": 0
      },
      "text/plain": [
       "Sanity Checking: |          | 0/? [00:00<?, ?it/s]"
      ]
     },
     "metadata": {},
     "output_type": "display_data"
    },
    {
     "name": "stderr",
     "output_type": "stream",
     "text": [
      "/home/olympus/licq/utils/miniconda3/envs/weaver/lib/python3.9/site-packages/pytorch_lightning/trainer/connectors/data_connector.py:441: The 'val_dataloader' does not have many workers which may be a bottleneck. Consider increasing the value of the `num_workers` argument` to `num_workers=71` in the `DataLoader` to improve performance.\n",
      "/home/olympus/licq/utils/miniconda3/envs/weaver/lib/python3.9/site-packages/pytorch_lightning/trainer/connectors/data_connector.py:441: The 'train_dataloader' does not have many workers which may be a bottleneck. Consider increasing the value of the `num_workers` argument` to `num_workers=71` in the `DataLoader` to improve performance.\n"
     ]
    },
    {
     "data": {
      "application/vnd.jupyter.widget-view+json": {
       "model_id": "4f1a918e45b540848c7fc55b9fe88054",
       "version_major": 2,
       "version_minor": 0
      },
      "text/plain": [
       "Training: |          | 0/? [00:00<?, ?it/s]"
      ]
     },
     "metadata": {},
     "output_type": "display_data"
    },
    {
     "data": {
      "application/vnd.jupyter.widget-view+json": {
       "model_id": "72f37726360c48949bf44301505ea4e0",
       "version_major": 2,
       "version_minor": 0
      },
      "text/plain": [
       "Validation: |          | 0/? [00:00<?, ?it/s]"
      ]
     },
     "metadata": {},
     "output_type": "display_data"
    },
    {
     "data": {
      "application/vnd.jupyter.widget-view+json": {
       "model_id": "96b63832b935478190da3e05d2ea665d",
       "version_major": 2,
       "version_minor": 0
      },
      "text/plain": [
       "Validation: |          | 0/? [00:00<?, ?it/s]"
      ]
     },
     "metadata": {},
     "output_type": "display_data"
    },
    {
     "data": {
      "application/vnd.jupyter.widget-view+json": {
       "model_id": "8ba3ab0356ee44aaa13ce7d7e7de8290",
       "version_major": 2,
       "version_minor": 0
      },
      "text/plain": [
       "Validation: |          | 0/? [00:00<?, ?it/s]"
      ]
     },
     "metadata": {},
     "output_type": "display_data"
    },
    {
     "data": {
      "application/vnd.jupyter.widget-view+json": {
       "model_id": "894124f1016d468fa599c5ca6062fb4c",
       "version_major": 2,
       "version_minor": 0
      },
      "text/plain": [
       "Validation: |          | 0/? [00:00<?, ?it/s]"
      ]
     },
     "metadata": {},
     "output_type": "display_data"
    },
    {
     "data": {
      "application/vnd.jupyter.widget-view+json": {
       "model_id": "abdee5f1a4ba48018c6dadd8c41e944a",
       "version_major": 2,
       "version_minor": 0
      },
      "text/plain": [
       "Validation: |          | 0/? [00:00<?, ?it/s]"
      ]
     },
     "metadata": {},
     "output_type": "display_data"
    },
    {
     "data": {
      "application/vnd.jupyter.widget-view+json": {
       "model_id": "6e55c9f857fc4f2882f2434373832bd6",
       "version_major": 2,
       "version_minor": 0
      },
      "text/plain": [
       "Validation: |          | 0/? [00:00<?, ?it/s]"
      ]
     },
     "metadata": {},
     "output_type": "display_data"
    },
    {
     "data": {
      "application/vnd.jupyter.widget-view+json": {
       "model_id": "0264388aaaa745b987ad93fe5694c3c1",
       "version_major": 2,
       "version_minor": 0
      },
      "text/plain": [
       "Validation: |          | 0/? [00:00<?, ?it/s]"
      ]
     },
     "metadata": {},
     "output_type": "display_data"
    },
    {
     "data": {
      "application/vnd.jupyter.widget-view+json": {
       "model_id": "f9d469dcd9574aa38a7cfe761a4cc986",
       "version_major": 2,
       "version_minor": 0
      },
      "text/plain": [
       "Validation: |          | 0/? [00:00<?, ?it/s]"
      ]
     },
     "metadata": {},
     "output_type": "display_data"
    },
    {
     "data": {
      "application/vnd.jupyter.widget-view+json": {
       "model_id": "3fb576e38a6340ea9144733c219b678b",
       "version_major": 2,
       "version_minor": 0
      },
      "text/plain": [
       "Validation: |          | 0/? [00:00<?, ?it/s]"
      ]
     },
     "metadata": {},
     "output_type": "display_data"
    },
    {
     "data": {
      "application/vnd.jupyter.widget-view+json": {
       "model_id": "45fe9eb0de6d4428ac11b01561eec57f",
       "version_major": 2,
       "version_minor": 0
      },
      "text/plain": [
       "Validation: |          | 0/? [00:00<?, ?it/s]"
      ]
     },
     "metadata": {},
     "output_type": "display_data"
    },
    {
     "data": {
      "application/vnd.jupyter.widget-view+json": {
       "model_id": "302ab5a7f3fb4b6cb61b43a448550291",
       "version_major": 2,
       "version_minor": 0
      },
      "text/plain": [
       "Validation: |          | 0/? [00:00<?, ?it/s]"
      ]
     },
     "metadata": {},
     "output_type": "display_data"
    },
    {
     "data": {
      "application/vnd.jupyter.widget-view+json": {
       "model_id": "debeb47707e34c8e9bf4608478e6a72d",
       "version_major": 2,
       "version_minor": 0
      },
      "text/plain": [
       "Validation: |          | 0/? [00:00<?, ?it/s]"
      ]
     },
     "metadata": {},
     "output_type": "display_data"
    },
    {
     "data": {
      "application/vnd.jupyter.widget-view+json": {
       "model_id": "bfc6655fb39c44b8937ce97bbc7b342e",
       "version_major": 2,
       "version_minor": 0
      },
      "text/plain": [
       "Validation: |          | 0/? [00:00<?, ?it/s]"
      ]
     },
     "metadata": {},
     "output_type": "display_data"
    },
    {
     "data": {
      "application/vnd.jupyter.widget-view+json": {
       "model_id": "812dbae134f34f98972881c824e13d06",
       "version_major": 2,
       "version_minor": 0
      },
      "text/plain": [
       "Validation: |          | 0/? [00:00<?, ?it/s]"
      ]
     },
     "metadata": {},
     "output_type": "display_data"
    },
    {
     "data": {
      "application/vnd.jupyter.widget-view+json": {
       "model_id": "2af892022329479dac8ab56067cfae54",
       "version_major": 2,
       "version_minor": 0
      },
      "text/plain": [
       "Validation: |          | 0/? [00:00<?, ?it/s]"
      ]
     },
     "metadata": {},
     "output_type": "display_data"
    },
    {
     "data": {
      "application/vnd.jupyter.widget-view+json": {
       "model_id": "ae80866262c04ac69f23569c9dff0e68",
       "version_major": 2,
       "version_minor": 0
      },
      "text/plain": [
       "Validation: |          | 0/? [00:00<?, ?it/s]"
      ]
     },
     "metadata": {},
     "output_type": "display_data"
    },
    {
     "data": {
      "application/vnd.jupyter.widget-view+json": {
       "model_id": "320c1934224146029a0f01abc5959797",
       "version_major": 2,
       "version_minor": 0
      },
      "text/plain": [
       "Validation: |          | 0/? [00:00<?, ?it/s]"
      ]
     },
     "metadata": {},
     "output_type": "display_data"
    },
    {
     "data": {
      "application/vnd.jupyter.widget-view+json": {
       "model_id": "f2d33a360a4948d7a5350291365056fd",
       "version_major": 2,
       "version_minor": 0
      },
      "text/plain": [
       "Validation: |          | 0/? [00:00<?, ?it/s]"
      ]
     },
     "metadata": {},
     "output_type": "display_data"
    },
    {
     "data": {
      "application/vnd.jupyter.widget-view+json": {
       "model_id": "d48cea4f95d8417ba5ebd15d7e793eac",
       "version_major": 2,
       "version_minor": 0
      },
      "text/plain": [
       "Validation: |          | 0/? [00:00<?, ?it/s]"
      ]
     },
     "metadata": {},
     "output_type": "display_data"
    },
    {
     "data": {
      "application/vnd.jupyter.widget-view+json": {
       "model_id": "0abbd9eb1b5f4a8c9b35c3a78100d5b5",
       "version_major": 2,
       "version_minor": 0
      },
      "text/plain": [
       "Validation: |          | 0/? [00:00<?, ?it/s]"
      ]
     },
     "metadata": {},
     "output_type": "display_data"
    },
    {
     "data": {
      "application/vnd.jupyter.widget-view+json": {
       "model_id": "d9df0fa82ca34284b0fc4325ab3e4b7a",
       "version_major": 2,
       "version_minor": 0
      },
      "text/plain": [
       "Validation: |          | 0/? [00:00<?, ?it/s]"
      ]
     },
     "metadata": {},
     "output_type": "display_data"
    },
    {
     "data": {
      "application/vnd.jupyter.widget-view+json": {
       "model_id": "c6276d76aabe47d5850879b0777d8967",
       "version_major": 2,
       "version_minor": 0
      },
      "text/plain": [
       "Validation: |          | 0/? [00:00<?, ?it/s]"
      ]
     },
     "metadata": {},
     "output_type": "display_data"
    },
    {
     "data": {
      "application/vnd.jupyter.widget-view+json": {
       "model_id": "35b4210594784ee6872235ee1402bfbc",
       "version_major": 2,
       "version_minor": 0
      },
      "text/plain": [
       "Validation: |          | 0/? [00:00<?, ?it/s]"
      ]
     },
     "metadata": {},
     "output_type": "display_data"
    },
    {
     "data": {
      "application/vnd.jupyter.widget-view+json": {
       "model_id": "7146d67ff71e4898b2aacead17990688",
       "version_major": 2,
       "version_minor": 0
      },
      "text/plain": [
       "Validation: |          | 0/? [00:00<?, ?it/s]"
      ]
     },
     "metadata": {},
     "output_type": "display_data"
    },
    {
     "data": {
      "application/vnd.jupyter.widget-view+json": {
       "model_id": "90a4fcf7efc2416b81c7197f7a3d2633",
       "version_major": 2,
       "version_minor": 0
      },
      "text/plain": [
       "Validation: |          | 0/? [00:00<?, ?it/s]"
      ]
     },
     "metadata": {},
     "output_type": "display_data"
    },
    {
     "data": {
      "application/vnd.jupyter.widget-view+json": {
       "model_id": "f83be0889d044d77a87a713f331adc1b",
       "version_major": 2,
       "version_minor": 0
      },
      "text/plain": [
       "Validation: |          | 0/? [00:00<?, ?it/s]"
      ]
     },
     "metadata": {},
     "output_type": "display_data"
    },
    {
     "data": {
      "application/vnd.jupyter.widget-view+json": {
       "model_id": "79b052d9ebe84b6ca86dc6aff89fc2fe",
       "version_major": 2,
       "version_minor": 0
      },
      "text/plain": [
       "Validation: |          | 0/? [00:00<?, ?it/s]"
      ]
     },
     "metadata": {},
     "output_type": "display_data"
    },
    {
     "data": {
      "application/vnd.jupyter.widget-view+json": {
       "model_id": "449f0b06ba134df39c4bf08a1f066a3e",
       "version_major": 2,
       "version_minor": 0
      },
      "text/plain": [
       "Validation: |          | 0/? [00:00<?, ?it/s]"
      ]
     },
     "metadata": {},
     "output_type": "display_data"
    },
    {
     "data": {
      "application/vnd.jupyter.widget-view+json": {
       "model_id": "89babda07238400f80f1e393db2d8f4f",
       "version_major": 2,
       "version_minor": 0
      },
      "text/plain": [
       "Validation: |          | 0/? [00:00<?, ?it/s]"
      ]
     },
     "metadata": {},
     "output_type": "display_data"
    },
    {
     "data": {
      "application/vnd.jupyter.widget-view+json": {
       "model_id": "3b604e4d4aa74d5fbfe5a6d5d031f106",
       "version_major": 2,
       "version_minor": 0
      },
      "text/plain": [
       "Validation: |          | 0/? [00:00<?, ?it/s]"
      ]
     },
     "metadata": {},
     "output_type": "display_data"
    },
    {
     "data": {
      "application/vnd.jupyter.widget-view+json": {
       "model_id": "185ea4ecb99745e6a5769a2645c24e03",
       "version_major": 2,
       "version_minor": 0
      },
      "text/plain": [
       "Validation: |          | 0/? [00:00<?, ?it/s]"
      ]
     },
     "metadata": {},
     "output_type": "display_data"
    },
    {
     "data": {
      "application/vnd.jupyter.widget-view+json": {
       "model_id": "27bf91398d654344b66631def7f06afa",
       "version_major": 2,
       "version_minor": 0
      },
      "text/plain": [
       "Validation: |          | 0/? [00:00<?, ?it/s]"
      ]
     },
     "metadata": {},
     "output_type": "display_data"
    },
    {
     "data": {
      "application/vnd.jupyter.widget-view+json": {
       "model_id": "5225a937718d4842b76324e45a8bff3f",
       "version_major": 2,
       "version_minor": 0
      },
      "text/plain": [
       "Validation: |          | 0/? [00:00<?, ?it/s]"
      ]
     },
     "metadata": {},
     "output_type": "display_data"
    },
    {
     "data": {
      "application/vnd.jupyter.widget-view+json": {
       "model_id": "898c65d728db48e39c9daaaa55d5d126",
       "version_major": 2,
       "version_minor": 0
      },
      "text/plain": [
       "Validation: |          | 0/? [00:00<?, ?it/s]"
      ]
     },
     "metadata": {},
     "output_type": "display_data"
    },
    {
     "data": {
      "application/vnd.jupyter.widget-view+json": {
       "model_id": "f20fcc647a594913be6e77223353e151",
       "version_major": 2,
       "version_minor": 0
      },
      "text/plain": [
       "Validation: |          | 0/? [00:00<?, ?it/s]"
      ]
     },
     "metadata": {},
     "output_type": "display_data"
    },
    {
     "data": {
      "application/vnd.jupyter.widget-view+json": {
       "model_id": "034e1f00a44141c3844c27a2d60087a1",
       "version_major": 2,
       "version_minor": 0
      },
      "text/plain": [
       "Validation: |          | 0/? [00:00<?, ?it/s]"
      ]
     },
     "metadata": {},
     "output_type": "display_data"
    },
    {
     "data": {
      "application/vnd.jupyter.widget-view+json": {
       "model_id": "1abaecf235184483abef0a014eec43db",
       "version_major": 2,
       "version_minor": 0
      },
      "text/plain": [
       "Validation: |          | 0/? [00:00<?, ?it/s]"
      ]
     },
     "metadata": {},
     "output_type": "display_data"
    },
    {
     "data": {
      "application/vnd.jupyter.widget-view+json": {
       "model_id": "a2be248948104885b816c352db20fb1f",
       "version_major": 2,
       "version_minor": 0
      },
      "text/plain": [
       "Validation: |          | 0/? [00:00<?, ?it/s]"
      ]
     },
     "metadata": {},
     "output_type": "display_data"
    },
    {
     "data": {
      "application/vnd.jupyter.widget-view+json": {
       "model_id": "573ea0c304cf493fadb37c73f0a1627e",
       "version_major": 2,
       "version_minor": 0
      },
      "text/plain": [
       "Validation: |          | 0/? [00:00<?, ?it/s]"
      ]
     },
     "metadata": {},
     "output_type": "display_data"
    },
    {
     "data": {
      "application/vnd.jupyter.widget-view+json": {
       "model_id": "bb9d4e789068459aa6effec532fe8caa",
       "version_major": 2,
       "version_minor": 0
      },
      "text/plain": [
       "Validation: |          | 0/? [00:00<?, ?it/s]"
      ]
     },
     "metadata": {},
     "output_type": "display_data"
    },
    {
     "data": {
      "application/vnd.jupyter.widget-view+json": {
       "model_id": "88cae86c932346ec81068a18b5193bcb",
       "version_major": 2,
       "version_minor": 0
      },
      "text/plain": [
       "Validation: |          | 0/? [00:00<?, ?it/s]"
      ]
     },
     "metadata": {},
     "output_type": "display_data"
    },
    {
     "data": {
      "application/vnd.jupyter.widget-view+json": {
       "model_id": "d2cf02f6691f480c9351350ee6c16341",
       "version_major": 2,
       "version_minor": 0
      },
      "text/plain": [
       "Validation: |          | 0/? [00:00<?, ?it/s]"
      ]
     },
     "metadata": {},
     "output_type": "display_data"
    },
    {
     "data": {
      "application/vnd.jupyter.widget-view+json": {
       "model_id": "cfca3f831c1f41d6a4b3626e8bffd02e",
       "version_major": 2,
       "version_minor": 0
      },
      "text/plain": [
       "Validation: |          | 0/? [00:00<?, ?it/s]"
      ]
     },
     "metadata": {},
     "output_type": "display_data"
    },
    {
     "data": {
      "application/vnd.jupyter.widget-view+json": {
       "model_id": "a71be78b71e042259aa70a2c66be5f57",
       "version_major": 2,
       "version_minor": 0
      },
      "text/plain": [
       "Validation: |          | 0/? [00:00<?, ?it/s]"
      ]
     },
     "metadata": {},
     "output_type": "display_data"
    },
    {
     "data": {
      "application/vnd.jupyter.widget-view+json": {
       "model_id": "e96a17a71d754a48b9342d9379677d85",
       "version_major": 2,
       "version_minor": 0
      },
      "text/plain": [
       "Validation: |          | 0/? [00:00<?, ?it/s]"
      ]
     },
     "metadata": {},
     "output_type": "display_data"
    },
    {
     "data": {
      "application/vnd.jupyter.widget-view+json": {
       "model_id": "c5dd6618b75b423d94b8f14b96211dc6",
       "version_major": 2,
       "version_minor": 0
      },
      "text/plain": [
       "Validation: |          | 0/? [00:00<?, ?it/s]"
      ]
     },
     "metadata": {},
     "output_type": "display_data"
    },
    {
     "data": {
      "application/vnd.jupyter.widget-view+json": {
       "model_id": "285938fe6c744dfb9100ff0967038440",
       "version_major": 2,
       "version_minor": 0
      },
      "text/plain": [
       "Validation: |          | 0/? [00:00<?, ?it/s]"
      ]
     },
     "metadata": {},
     "output_type": "display_data"
    },
    {
     "data": {
      "application/vnd.jupyter.widget-view+json": {
       "model_id": "33becc5bf15649c98354945b1b574cbc",
       "version_major": 2,
       "version_minor": 0
      },
      "text/plain": [
       "Validation: |          | 0/? [00:00<?, ?it/s]"
      ]
     },
     "metadata": {},
     "output_type": "display_data"
    },
    {
     "data": {
      "application/vnd.jupyter.widget-view+json": {
       "model_id": "e10bfd5b0cbc42a2b4a2ea6eb4b19ae7",
       "version_major": 2,
       "version_minor": 0
      },
      "text/plain": [
       "Validation: |          | 0/? [00:00<?, ?it/s]"
      ]
     },
     "metadata": {},
     "output_type": "display_data"
    },
    {
     "data": {
      "application/vnd.jupyter.widget-view+json": {
       "model_id": "2bd76589e0ef4789a64f40891e1ca67b",
       "version_major": 2,
       "version_minor": 0
      },
      "text/plain": [
       "Validation: |          | 0/? [00:00<?, ?it/s]"
      ]
     },
     "metadata": {},
     "output_type": "display_data"
    },
    {
     "name": "stderr",
     "output_type": "stream",
     "text": [
      "`Trainer.fit` stopped: `max_epochs=50` reached.\n"
     ]
    }
   ],
   "source": [
    "# Trainer with a logger\n",
    "trainer = pl.Trainer(max_epochs=50, logger=pl.loggers.TensorBoardLogger('tb_logs', name='simple_transformer_pytorchimpl'))\n",
    "\n",
    "# Fit the model\n",
    "trainer.fit(model_transformer_pytorchimpl, train_loader, val_loader)"
   ]
  },
  {
   "cell_type": "markdown",
   "metadata": {},
   "source": [
    "我们依然检查一下分布图。\n",
    "\n",
    "也可以再刷新一下上面的tensorboard，看看这次训练过程的指标是不是之前完全手动搭建的 Transformer 例子一样呢?"
   ]
  },
  {
   "cell_type": "code",
   "execution_count": 19,
   "metadata": {},
   "outputs": [
    {
     "name": "stderr",
     "output_type": "stream",
     "text": [
      "LOCAL_RANK: 0 - CUDA_VISIBLE_DEVICES: [0,1,2,3]\n"
     ]
    },
    {
     "name": "stderr",
     "output_type": "stream",
     "text": [
      "/home/olympus/licq/utils/miniconda3/envs/weaver/lib/python3.9/site-packages/pytorch_lightning/trainer/connectors/data_connector.py:441: The 'predict_dataloader' does not have many workers which may be a bottleneck. Consider increasing the value of the `num_workers` argument` to `num_workers=71` in the `DataLoader` to improve performance.\n"
     ]
    },
    {
     "data": {
      "application/vnd.jupyter.widget-view+json": {
       "model_id": "04a917c4f617477ead48da7876206a49",
       "version_major": 2,
       "version_minor": 0
      },
      "text/plain": [
       "Predicting: |          | 0/? [00:00<?, ?it/s]"
      ]
     },
     "metadata": {},
     "output_type": "display_data"
    },
    {
     "data": {
      "text/plain": [
       "(0.0, 1.0)"
      ]
     },
     "execution_count": 19,
     "metadata": {},
     "output_type": "execute_result"
    },
    {
     "data": {
      "image/png": "[encoded data removed]",
      "text/plain": [
       "<Figure size 720x720 with 1 Axes>"
      ]
     },
     "metadata": {
      "needs_background": "light"
     },
     "output_type": "display_data"
    }
   ],
   "source": [
    "# Use the trainer to predict\n",
    "predictions_transformer_pytorchimpl = trainer.predict(model_transformer_pytorchimpl, dataloaders=test_loader)\n",
    "predictions_transformer_pytorchimpl = [p.numpy() for batch in predictions_transformer_pytorchimpl for p in batch]\n",
    "\n",
    "test_score = np.array([np.exp(p[1]) / (np.exp(p[0]) + np.exp(p[1])) for p in predictions_transformer_pytorchimpl]) # 注意，我们取第二个神经元，因为它是signal对应的神经元\n",
    "\n",
    "## 下面做出图像\n",
    "\n",
    "import matplotlib.pyplot as plt\n",
    "import mplhep as hep\n",
    "plt.style.use(hep.style.ROOT)\n",
    "\n",
    "plt.hist(test_score[test_df['is_sig']], label=\"SIG (di-Higgs)\", histtype=\"step\", bins=np.linspace(0, 1), density=True)\n",
    "plt.hist(test_score[test_df['is_bkg']], label=r\"BKG ($t\\bar{t}$)\", histtype=\"step\", bins=np.linspace(0, 1), density=True)\n",
    "plt.legend()\n",
    "plt.xlabel(\"Score (Prob. from Transformer Prediction)\")\n",
    "plt.xlim(0, 1)"
   ]
  },
  {
   "cell_type": "markdown",
   "metadata": {},
   "source": [
    "使用内置的 MultiheadAttention 有什么好处呢？工业界对 Transformer attention 的计算方法进行了各种优化，使得我们可以用数学等价的形式进行更快的运算。例如，最近比较著名的是 FlashAttention，利用 GPU 底层硬件的内存层次知识，减少对下层更低速度的内存的访问，来实现加速。目前的大模型推理和训练速度越来越快，就有这些新算法的功劳！\n",
    "\n",
    "PyTorch 将各种优化方法集成起来，可以根据 GPU 的类型和我们的实现方式自己选择优化方法，从而我们可以直接利用统一的 MultiheadAttention 模块实现最快的训练和推理。\n",
    "\n",
    "如上图最后一行可见，attention计算里面最内核的部分是 `scaled_dot_product_attention()` 函数（不带可学参量的称为PyTorch函数）。这个函数是包含各种底层优化方案的最基础单元。如果希望实现稍微自定义一些的 Transformer 模块，则可以不用 MultiheadAttention 而使用更基础的 `scaled_dot_product_attention()` 来封装我们自己的模型。"
   ]
  },
  {
   "cell_type": "code",
   "execution_count": null,
   "metadata": {},
   "outputs": [],
   "source": []
  },
  {
   "cell_type": "code",
   "execution_count": null,
   "metadata": {},
   "outputs": [],
   "source": []
  }
 ],
 "metadata": {
  "kernelspec": {
   "display_name": "weaver",
   "language": "python",
   "name": "python3"
  },
  "language_info": {
   "codemirror_mode": {
    "name": "ipython",
    "version": 3
   },
   "file_extension": ".py",
   "mimetype": "text/x-python",
   "name": "python",
   "nbconvert_exporter": "python",
   "pygments_lexer": "ipython3",
   "version": "3.9.7"
  },
  "toc-autonumbering": false,
  "toc-showcode": true,
  "toc-showmarkdowntxt": false
 },
 "nbformat": 4,
 "nbformat_minor": 4
}
